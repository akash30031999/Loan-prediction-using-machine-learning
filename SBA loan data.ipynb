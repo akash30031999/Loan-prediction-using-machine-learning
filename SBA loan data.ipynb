{
 "cells": [
  {
   "cell_type": "code",
   "execution_count": 1,
   "id": "5d9827b5",
   "metadata": {},
   "outputs": [],
   "source": [
    "# Import packages used for analysis\n",
    "import pandas as pd\n",
    "import numpy as np\n",
    "import matplotlib.pyplot as plt\n",
    "import seaborn as sns\n",
    "from sklearn.model_selection import train_test_split, cross_val_score\n",
    "from sklearn.metrics import accuracy_score, confusion_matrix, classification_report\n",
    "from sklearn.preprocessing import StandardScaler\n",
    "from sklearn.pipeline import Pipeline\n",
    "from sklearn.feature_selection import SelectKBest\n",
    "from sklearn.linear_model import SGDRegressor\n",
    "from sklearn.linear_model import LogisticRegression"
   ]
  },
  {
   "cell_type": "code",
   "execution_count": 12,
   "id": "80041487",
   "metadata": {},
   "outputs": [],
   "source": [
    "# Load the SBA loan data and make a copy for exploration\n",
    "df = pd.read_csv('SBAnational.csv',low_memory=False)\n",
    "\n",
    "df_copy = df.copy()"
   ]
  },
  {
   "cell_type": "code",
   "execution_count": 13,
   "id": "2c1d7c96",
   "metadata": {},
   "outputs": [
    {
     "data": {
      "text/html": [
       "<div>\n",
       "<style scoped>\n",
       "    .dataframe tbody tr th:only-of-type {\n",
       "        vertical-align: middle;\n",
       "    }\n",
       "\n",
       "    .dataframe tbody tr th {\n",
       "        vertical-align: top;\n",
       "    }\n",
       "\n",
       "    .dataframe thead th {\n",
       "        text-align: right;\n",
       "    }\n",
       "</style>\n",
       "<table border=\"1\" class=\"dataframe\">\n",
       "  <thead>\n",
       "    <tr style=\"text-align: right;\">\n",
       "      <th></th>\n",
       "      <th>LoanNr_ChkDgt</th>\n",
       "      <th>Name</th>\n",
       "      <th>City</th>\n",
       "      <th>State</th>\n",
       "      <th>Zip</th>\n",
       "      <th>Bank</th>\n",
       "      <th>BankState</th>\n",
       "      <th>NAICS</th>\n",
       "      <th>ApprovalDate</th>\n",
       "      <th>ApprovalFY</th>\n",
       "      <th>...</th>\n",
       "      <th>RevLineCr</th>\n",
       "      <th>LowDoc</th>\n",
       "      <th>ChgOffDate</th>\n",
       "      <th>DisbursementDate</th>\n",
       "      <th>DisbursementGross</th>\n",
       "      <th>BalanceGross</th>\n",
       "      <th>MIS_Status</th>\n",
       "      <th>ChgOffPrinGr</th>\n",
       "      <th>GrAppv</th>\n",
       "      <th>SBA_Appv</th>\n",
       "    </tr>\n",
       "  </thead>\n",
       "  <tbody>\n",
       "    <tr>\n",
       "      <th>0</th>\n",
       "      <td>1000014003</td>\n",
       "      <td>ABC HOBBYCRAFT</td>\n",
       "      <td>EVANSVILLE</td>\n",
       "      <td>IN</td>\n",
       "      <td>47711</td>\n",
       "      <td>FIFTH THIRD BANK</td>\n",
       "      <td>OH</td>\n",
       "      <td>451120</td>\n",
       "      <td>28-Feb-97</td>\n",
       "      <td>1997</td>\n",
       "      <td>...</td>\n",
       "      <td>N</td>\n",
       "      <td>Y</td>\n",
       "      <td>NaN</td>\n",
       "      <td>28-Feb-99</td>\n",
       "      <td>$60,000.00</td>\n",
       "      <td>$0.00</td>\n",
       "      <td>P I F</td>\n",
       "      <td>$0.00</td>\n",
       "      <td>$60,000.00</td>\n",
       "      <td>$48,000.00</td>\n",
       "    </tr>\n",
       "    <tr>\n",
       "      <th>1</th>\n",
       "      <td>1000024006</td>\n",
       "      <td>LANDMARK BAR &amp; GRILLE (THE)</td>\n",
       "      <td>NEW PARIS</td>\n",
       "      <td>IN</td>\n",
       "      <td>46526</td>\n",
       "      <td>1ST SOURCE BANK</td>\n",
       "      <td>IN</td>\n",
       "      <td>722410</td>\n",
       "      <td>28-Feb-97</td>\n",
       "      <td>1997</td>\n",
       "      <td>...</td>\n",
       "      <td>N</td>\n",
       "      <td>Y</td>\n",
       "      <td>NaN</td>\n",
       "      <td>31-May-97</td>\n",
       "      <td>$40,000.00</td>\n",
       "      <td>$0.00</td>\n",
       "      <td>P I F</td>\n",
       "      <td>$0.00</td>\n",
       "      <td>$40,000.00</td>\n",
       "      <td>$32,000.00</td>\n",
       "    </tr>\n",
       "    <tr>\n",
       "      <th>2</th>\n",
       "      <td>1000034009</td>\n",
       "      <td>WHITLOCK DDS, TODD M.</td>\n",
       "      <td>BLOOMINGTON</td>\n",
       "      <td>IN</td>\n",
       "      <td>47401</td>\n",
       "      <td>GRANT COUNTY STATE BANK</td>\n",
       "      <td>IN</td>\n",
       "      <td>621210</td>\n",
       "      <td>28-Feb-97</td>\n",
       "      <td>1997</td>\n",
       "      <td>...</td>\n",
       "      <td>N</td>\n",
       "      <td>N</td>\n",
       "      <td>NaN</td>\n",
       "      <td>31-Dec-97</td>\n",
       "      <td>$287,000.00</td>\n",
       "      <td>$0.00</td>\n",
       "      <td>P I F</td>\n",
       "      <td>$0.00</td>\n",
       "      <td>$287,000.00</td>\n",
       "      <td>$215,250.00</td>\n",
       "    </tr>\n",
       "    <tr>\n",
       "      <th>3</th>\n",
       "      <td>1000044001</td>\n",
       "      <td>BIG BUCKS PAWN &amp; JEWELRY, LLC</td>\n",
       "      <td>BROKEN ARROW</td>\n",
       "      <td>OK</td>\n",
       "      <td>74012</td>\n",
       "      <td>1ST NATL BK &amp; TR CO OF BROKEN</td>\n",
       "      <td>OK</td>\n",
       "      <td>0</td>\n",
       "      <td>28-Feb-97</td>\n",
       "      <td>1997</td>\n",
       "      <td>...</td>\n",
       "      <td>N</td>\n",
       "      <td>Y</td>\n",
       "      <td>NaN</td>\n",
       "      <td>30-Jun-97</td>\n",
       "      <td>$35,000.00</td>\n",
       "      <td>$0.00</td>\n",
       "      <td>P I F</td>\n",
       "      <td>$0.00</td>\n",
       "      <td>$35,000.00</td>\n",
       "      <td>$28,000.00</td>\n",
       "    </tr>\n",
       "    <tr>\n",
       "      <th>4</th>\n",
       "      <td>1000054004</td>\n",
       "      <td>ANASTASIA CONFECTIONS, INC.</td>\n",
       "      <td>ORLANDO</td>\n",
       "      <td>FL</td>\n",
       "      <td>32801</td>\n",
       "      <td>FLORIDA BUS. DEVEL CORP</td>\n",
       "      <td>FL</td>\n",
       "      <td>0</td>\n",
       "      <td>28-Feb-97</td>\n",
       "      <td>1997</td>\n",
       "      <td>...</td>\n",
       "      <td>N</td>\n",
       "      <td>N</td>\n",
       "      <td>NaN</td>\n",
       "      <td>14-May-97</td>\n",
       "      <td>$229,000.00</td>\n",
       "      <td>$0.00</td>\n",
       "      <td>P I F</td>\n",
       "      <td>$0.00</td>\n",
       "      <td>$229,000.00</td>\n",
       "      <td>$229,000.00</td>\n",
       "    </tr>\n",
       "  </tbody>\n",
       "</table>\n",
       "<p>5 rows × 27 columns</p>\n",
       "</div>"
      ],
      "text/plain": [
       "   LoanNr_ChkDgt                           Name          City State    Zip  \\\n",
       "0     1000014003                 ABC HOBBYCRAFT    EVANSVILLE    IN  47711   \n",
       "1     1000024006    LANDMARK BAR & GRILLE (THE)     NEW PARIS    IN  46526   \n",
       "2     1000034009          WHITLOCK DDS, TODD M.   BLOOMINGTON    IN  47401   \n",
       "3     1000044001  BIG BUCKS PAWN & JEWELRY, LLC  BROKEN ARROW    OK  74012   \n",
       "4     1000054004    ANASTASIA CONFECTIONS, INC.       ORLANDO    FL  32801   \n",
       "\n",
       "                            Bank BankState   NAICS ApprovalDate ApprovalFY  \\\n",
       "0               FIFTH THIRD BANK        OH  451120    28-Feb-97       1997   \n",
       "1                1ST SOURCE BANK        IN  722410    28-Feb-97       1997   \n",
       "2        GRANT COUNTY STATE BANK        IN  621210    28-Feb-97       1997   \n",
       "3  1ST NATL BK & TR CO OF BROKEN        OK       0    28-Feb-97       1997   \n",
       "4        FLORIDA BUS. DEVEL CORP        FL       0    28-Feb-97       1997   \n",
       "\n",
       "   ...  RevLineCr  LowDoc  ChgOffDate  DisbursementDate  DisbursementGross  \\\n",
       "0  ...          N       Y         NaN         28-Feb-99        $60,000.00    \n",
       "1  ...          N       Y         NaN         31-May-97        $40,000.00    \n",
       "2  ...          N       N         NaN         31-Dec-97       $287,000.00    \n",
       "3  ...          N       Y         NaN         30-Jun-97        $35,000.00    \n",
       "4  ...          N       N         NaN         14-May-97       $229,000.00    \n",
       "\n",
       "   BalanceGross  MIS_Status ChgOffPrinGr        GrAppv      SBA_Appv  \n",
       "0        $0.00        P I F       $0.00    $60,000.00    $48,000.00   \n",
       "1        $0.00        P I F       $0.00    $40,000.00    $32,000.00   \n",
       "2        $0.00        P I F       $0.00   $287,000.00   $215,250.00   \n",
       "3        $0.00        P I F       $0.00    $35,000.00    $28,000.00   \n",
       "4        $0.00        P I F       $0.00   $229,000.00   $229,000.00   \n",
       "\n",
       "[5 rows x 27 columns]"
      ]
     },
     "execution_count": 13,
     "metadata": {},
     "output_type": "execute_result"
    }
   ],
   "source": [
    "df_copy.head()"
   ]
  },
  {
   "cell_type": "code",
   "execution_count": 14,
   "id": "78c5b589",
   "metadata": {},
   "outputs": [
    {
     "data": {
      "text/plain": [
       "(899164, 27)"
      ]
     },
     "execution_count": 14,
     "metadata": {},
     "output_type": "execute_result"
    }
   ],
   "source": [
    "df_copy.shape"
   ]
  },
  {
   "cell_type": "code",
   "execution_count": 15,
   "id": "ca5a5930",
   "metadata": {},
   "outputs": [
    {
     "data": {
      "text/plain": [
       "LoanNr_ChkDgt             0\n",
       "Name                     14\n",
       "City                     30\n",
       "State                    14\n",
       "Zip                       0\n",
       "Bank                   1559\n",
       "BankState              1566\n",
       "NAICS                     0\n",
       "ApprovalDate              0\n",
       "ApprovalFY                0\n",
       "Term                      0\n",
       "NoEmp                     0\n",
       "NewExist                136\n",
       "CreateJob                 0\n",
       "RetainedJob               0\n",
       "FranchiseCode             0\n",
       "UrbanRural                0\n",
       "RevLineCr              4528\n",
       "LowDoc                 2582\n",
       "ChgOffDate           736465\n",
       "DisbursementDate       2368\n",
       "DisbursementGross         0\n",
       "BalanceGross              0\n",
       "MIS_Status             1997\n",
       "ChgOffPrinGr              0\n",
       "GrAppv                    0\n",
       "SBA_Appv                  0\n",
       "dtype: int64"
      ]
     },
     "execution_count": 15,
     "metadata": {},
     "output_type": "execute_result"
    }
   ],
   "source": [
    "df_copy.isnull().sum()"
   ]
  },
  {
   "cell_type": "code",
   "execution_count": 16,
   "id": "cf694e7f",
   "metadata": {},
   "outputs": [
    {
     "data": {
      "text/plain": [
       "LoanNr_ChkDgt             0\n",
       "Name                      0\n",
       "City                      0\n",
       "State                     0\n",
       "Zip                       0\n",
       "Bank                      0\n",
       "BankState                 0\n",
       "NAICS                     0\n",
       "ApprovalDate              0\n",
       "ApprovalFY                0\n",
       "Term                      0\n",
       "NoEmp                     0\n",
       "NewExist                  0\n",
       "CreateJob                 0\n",
       "RetainedJob               0\n",
       "FranchiseCode             0\n",
       "UrbanRural                0\n",
       "RevLineCr                 0\n",
       "LowDoc                    0\n",
       "ChgOffDate           725369\n",
       "DisbursementDate          0\n",
       "DisbursementGross         0\n",
       "BalanceGross              0\n",
       "MIS_Status                0\n",
       "ChgOffPrinGr              0\n",
       "GrAppv                    0\n",
       "SBA_Appv                  0\n",
       "dtype: int64"
      ]
     },
     "execution_count": 16,
     "metadata": {},
     "output_type": "execute_result"
    }
   ],
   "source": [
    "# Drop null values from specified columns\n",
    "df_copy.dropna(subset=['Name', 'City', 'State', 'BankState', 'NewExist','RevLineCr', 'LowDoc', 'DisbursementDate', 'MIS_Status'], inplace=True)\n",
    "df_copy.isnull().sum()"
   ]
  },
  {
   "cell_type": "code",
   "execution_count": 17,
   "id": "73f0ea1c",
   "metadata": {},
   "outputs": [
    {
     "data": {
      "text/plain": [
       "LoanNr_ChkDgt          int64\n",
       "Name                  object\n",
       "City                  object\n",
       "State                 object\n",
       "Zip                    int64\n",
       "Bank                  object\n",
       "BankState             object\n",
       "NAICS                  int64\n",
       "ApprovalDate          object\n",
       "ApprovalFY            object\n",
       "Term                   int64\n",
       "NoEmp                  int64\n",
       "NewExist             float64\n",
       "CreateJob              int64\n",
       "RetainedJob            int64\n",
       "FranchiseCode          int64\n",
       "UrbanRural             int64\n",
       "RevLineCr             object\n",
       "LowDoc                object\n",
       "ChgOffDate            object\n",
       "DisbursementDate      object\n",
       "DisbursementGross     object\n",
       "BalanceGross          object\n",
       "MIS_Status            object\n",
       "ChgOffPrinGr          object\n",
       "GrAppv                object\n",
       "SBA_Appv              object\n",
       "dtype: object"
      ]
     },
     "execution_count": 17,
     "metadata": {},
     "output_type": "execute_result"
    }
   ],
   "source": [
    "# Check data types of each feature\n",
    "df_copy.dtypes"
   ]
  },
  {
   "cell_type": "code",
   "execution_count": 18,
   "id": "8ad05dd0",
   "metadata": {},
   "outputs": [
    {
     "data": {
      "text/html": [
       "<div>\n",
       "<style scoped>\n",
       "    .dataframe tbody tr th:only-of-type {\n",
       "        vertical-align: middle;\n",
       "    }\n",
       "\n",
       "    .dataframe tbody tr th {\n",
       "        vertical-align: top;\n",
       "    }\n",
       "\n",
       "    .dataframe thead th {\n",
       "        text-align: right;\n",
       "    }\n",
       "</style>\n",
       "<table border=\"1\" class=\"dataframe\">\n",
       "  <thead>\n",
       "    <tr style=\"text-align: right;\">\n",
       "      <th></th>\n",
       "      <th>DisbursementGross</th>\n",
       "      <th>BalanceGross</th>\n",
       "      <th>ChgOffPrinGr</th>\n",
       "      <th>GrAppv</th>\n",
       "      <th>SBA_Appv</th>\n",
       "    </tr>\n",
       "  </thead>\n",
       "  <tbody>\n",
       "    <tr>\n",
       "      <th>0</th>\n",
       "      <td>$60,000.00</td>\n",
       "      <td>$0.00</td>\n",
       "      <td>$0.00</td>\n",
       "      <td>$60,000.00</td>\n",
       "      <td>$48,000.00</td>\n",
       "    </tr>\n",
       "    <tr>\n",
       "      <th>1</th>\n",
       "      <td>$40,000.00</td>\n",
       "      <td>$0.00</td>\n",
       "      <td>$0.00</td>\n",
       "      <td>$40,000.00</td>\n",
       "      <td>$32,000.00</td>\n",
       "    </tr>\n",
       "    <tr>\n",
       "      <th>2</th>\n",
       "      <td>$287,000.00</td>\n",
       "      <td>$0.00</td>\n",
       "      <td>$0.00</td>\n",
       "      <td>$287,000.00</td>\n",
       "      <td>$215,250.00</td>\n",
       "    </tr>\n",
       "    <tr>\n",
       "      <th>3</th>\n",
       "      <td>$35,000.00</td>\n",
       "      <td>$0.00</td>\n",
       "      <td>$0.00</td>\n",
       "      <td>$35,000.00</td>\n",
       "      <td>$28,000.00</td>\n",
       "    </tr>\n",
       "    <tr>\n",
       "      <th>4</th>\n",
       "      <td>$229,000.00</td>\n",
       "      <td>$0.00</td>\n",
       "      <td>$0.00</td>\n",
       "      <td>$229,000.00</td>\n",
       "      <td>$229,000.00</td>\n",
       "    </tr>\n",
       "  </tbody>\n",
       "</table>\n",
       "</div>"
      ],
      "text/plain": [
       "  DisbursementGross BalanceGross ChgOffPrinGr        GrAppv      SBA_Appv\n",
       "0       $60,000.00        $0.00        $0.00    $60,000.00    $48,000.00 \n",
       "1       $40,000.00        $0.00        $0.00    $40,000.00    $32,000.00 \n",
       "2      $287,000.00        $0.00        $0.00   $287,000.00   $215,250.00 \n",
       "3       $35,000.00        $0.00        $0.00    $35,000.00    $28,000.00 \n",
       "4      $229,000.00        $0.00        $0.00   $229,000.00   $229,000.00 "
      ]
     },
     "execution_count": 18,
     "metadata": {},
     "output_type": "execute_result"
    }
   ],
   "source": [
    "df_copy[['DisbursementGross', 'BalanceGross', 'ChgOffPrinGr', 'GrAppv', 'SBA_Appv']].head()"
   ]
  },
  {
   "cell_type": "code",
   "execution_count": 19,
   "id": "15adb450",
   "metadata": {},
   "outputs": [],
   "source": [
    "# Remove '$', commas, and extra spaces from records in columns with dollar values that should be floats\n",
    "df_copy[['DisbursementGross', 'BalanceGross', 'ChgOffPrinGr', 'GrAppv', 'SBA_Appv']] = \\\n",
    "df_copy[['DisbursementGross', 'BalanceGross', 'ChgOffPrinGr', 'GrAppv', 'SBA_Appv']].applymap(lambda x: x.strip().replace('$', '').replace(',', ''))"
   ]
  },
  {
   "cell_type": "code",
   "execution_count": 20,
   "id": "7797c592",
   "metadata": {},
   "outputs": [
    {
     "data": {
      "text/plain": [
       "<class 'str'>    886240\n",
       "Name: ApprovalFY, dtype: int64"
      ]
     },
     "execution_count": 20,
     "metadata": {},
     "output_type": "execute_result"
    }
   ],
   "source": [
    "# Check the number of each data type in the field\n",
    "df_copy['ApprovalFY'].apply(type).value_counts()"
   ]
  },
  {
   "cell_type": "code",
   "execution_count": 21,
   "id": "9e3263e3",
   "metadata": {},
   "outputs": [
    {
     "data": {
      "text/plain": [
       "array(['1997', '1980', '2006', '1998', '1999', '2000', '2001', '1972',\n",
       "       '2003', '2004', '1978', '1979', '1981', '2005', '1982', '1983',\n",
       "       '1973', '1984', '2007', '1985', '1986', '1987', '2008', '1988',\n",
       "       '2009', '1989', '1991', '1990', '1974', '2010', '2011', '1992',\n",
       "       '1993', '2002', '2012', '2013', '1994', '2014', '1975', '1977',\n",
       "       '1976', '1968', '1976A', '1969', '1995', '1970', '1996', '1971'],\n",
       "      dtype=object)"
      ]
     },
     "execution_count": 21,
     "metadata": {},
     "output_type": "execute_result"
    }
   ],
   "source": [
    "df_copy['ApprovalFY'].unique()"
   ]
  },
  {
   "cell_type": "code",
   "execution_count": 22,
   "id": "8f2324c8",
   "metadata": {},
   "outputs": [],
   "source": [
    "# Create a function to apply formatting to the records of str type only\n",
    "def clean_str(x):\n",
    "    if isinstance(x, str):\n",
    "        return x.replace('A', '')\n",
    "    return x\n",
    "\n",
    "\n",
    "df_copy['ApprovalFY'] = df_copy['ApprovalFY'].apply(clean_str).astype('int64')"
   ]
  },
  {
   "cell_type": "code",
   "execution_count": 23,
   "id": "fdc6df4d",
   "metadata": {},
   "outputs": [
    {
     "data": {
      "text/plain": [
       "LoanNr_ChkDgt          int64\n",
       "Name                  object\n",
       "City                  object\n",
       "State                 object\n",
       "Zip                   object\n",
       "Bank                  object\n",
       "BankState             object\n",
       "NAICS                  int64\n",
       "ApprovalDate          object\n",
       "ApprovalFY             int64\n",
       "Term                   int64\n",
       "NoEmp                  int64\n",
       "NewExist               int64\n",
       "CreateJob              int64\n",
       "RetainedJob            int64\n",
       "FranchiseCode          int64\n",
       "UrbanRural            object\n",
       "RevLineCr             object\n",
       "LowDoc                object\n",
       "ChgOffDate            object\n",
       "DisbursementDate      object\n",
       "DisbursementGross    float64\n",
       "BalanceGross         float64\n",
       "MIS_Status            object\n",
       "ChgOffPrinGr         float64\n",
       "GrAppv               float64\n",
       "SBA_Appv             float64\n",
       "dtype: object"
      ]
     },
     "execution_count": 23,
     "metadata": {},
     "output_type": "execute_result"
    }
   ],
   "source": [
    "# Change the type of NewExist to an integer, Zip and UrbanRural to str (categorical) and all currency-related fields to float values\n",
    "df_copy = df_copy.astype({'Zip': 'str', 'NewExist': 'int64', 'UrbanRural': 'str', 'DisbursementGross': 'float', 'BalanceGross': 'float',\n",
    "                          'ChgOffPrinGr': 'float', 'GrAppv': 'float', 'SBA_Appv': 'float'})\n",
    "\n",
    "# Check to see dtypes so far\n",
    "df_copy.dtypes"
   ]
  },
  {
   "cell_type": "code",
   "execution_count": 24,
   "id": "e236f29f",
   "metadata": {},
   "outputs": [],
   "source": [
    "# Create a new column with the industry the NAICS code represents\n",
    "# Selects only the first two numbers of the NAICS code\n",
    "df_copy['Industry'] = df_copy['NAICS'].astype('str').apply(lambda x: x[:2])\n",
    "\n",
    "# Maps the approprate industry to each record based on the first two digits of the NAICS code\n",
    "df_copy['Industry'] = df_copy['Industry'].map({\n",
    "    '11': 'Ag/For/Fish/Hunt',\n",
    "    '21': 'Min/Quar/Oil_Gas_ext',\n",
    "    '22': 'Utilities',\n",
    "    '23': 'Construction',\n",
    "    '31': 'Manufacturing',\n",
    "    '32': 'Manufacturing',\n",
    "    '33': 'Manufacturing',\n",
    "    '42': 'Wholesale_trade',\n",
    "    '44': 'Retail_trade',\n",
    "       '45': 'Retail_trade',\n",
    "    '48': 'Trans/Ware',\n",
    "    '49': 'Trans/Ware',\n",
    "    '51': 'Information',\n",
    "    '52': 'Finance/Insurance',\n",
    "    '53': 'RE/Rental/Lease',\n",
    "    '54': 'Prof/Science/Tech',\n",
    "    '55': 'Mgmt_comp',\n",
    "    '56': 'Admin_sup/Waste_Mgmt_Rem',\n",
    "    '61': 'Educational',\n",
    "    '62': 'Healthcare/Social_assist',\n",
    "    '71': 'Arts/Entertain/Rec',\n",
    "    '72': 'Accom/Food_serv',\n",
    "    '81': 'Other_no_pub',\n",
    "    '92': 'Public_Admin'\n",
    "})\n",
    "\n",
    "# Remove records where Industry is NaN (NAICS code was a 0)\n",
    "df_copy.dropna(subset=['Industry'],inplace=True)"
   ]
  },
  {
   "cell_type": "code",
   "execution_count": 25,
   "id": "7dcd5b61",
   "metadata": {},
   "outputs": [],
   "source": [
    "# Create flag column IsFranchise based on FranchiseCode column\n",
    "df_copy.loc[(df_copy['FranchiseCode'] <= 1), 'IsFranchise'] = 0\n",
    "df_copy.loc[(df_copy['FranchiseCode'] > 1), 'IsFranchise'] = 1"
   ]
  },
  {
   "cell_type": "code",
   "execution_count": 26,
   "id": "04d879d4",
   "metadata": {},
   "outputs": [
    {
     "data": {
      "text/plain": [
       "array([2, 1, 0], dtype=int64)"
      ]
     },
     "execution_count": 26,
     "metadata": {},
     "output_type": "execute_result"
    }
   ],
   "source": [
    "# NewExist\n",
    "# Makesure NewExist has only 1s and 2s; Remove records where NewExist isn't 1 or 2\n",
    "df_copy['NewExist'].unique()"
   ]
  },
  {
   "cell_type": "code",
   "execution_count": 27,
   "id": "206dca44",
   "metadata": {},
   "outputs": [],
   "source": [
    "# Keep records where NewExist == 1 or 2\n",
    "df_copy = df_copy[(df_copy['NewExist'] == 1) | (df_copy['NewExist'] == 2)]\n",
    "\n",
    "# Create NewBusiness field where 0 = Existing business and 1 = New business; based on NewExist field\n",
    "df_copy.loc[(df_copy['NewExist'] == 1), 'NewBusiness'] = 0\n",
    "df_copy.loc[(df_copy['NewExist'] == 2), 'NewBusiness'] = 1"
   ]
  },
  {
   "cell_type": "code",
   "execution_count": 28,
   "id": "a3d9bade",
   "metadata": {},
   "outputs": [
    {
     "data": {
      "text/plain": [
       "array(['N', 'Y', '0', 'T', '`', ',', '1', 'C', '2', 'R', '7', 'A', '-',\n",
       "       'Q'], dtype=object)"
      ]
     },
     "execution_count": 28,
     "metadata": {},
     "output_type": "execute_result"
    }
   ],
   "source": [
    "# RevLineCr and LowDoc\n",
    "# Double check RevLineCr and LowDoc unique values\n",
    "df_copy['RevLineCr'].unique()"
   ]
  },
  {
   "cell_type": "code",
   "execution_count": 29,
   "id": "9a7d40dd",
   "metadata": {},
   "outputs": [
    {
     "data": {
      "text/plain": [
       "array(['Y', 'N', 'C', '1', 'S', 'R', 'A', '0'], dtype=object)"
      ]
     },
     "execution_count": 29,
     "metadata": {},
     "output_type": "execute_result"
    }
   ],
   "source": [
    "df_copy['LowDoc'].unique()"
   ]
  },
  {
   "cell_type": "code",
   "execution_count": 30,
   "id": "0c0fd0ec",
   "metadata": {},
   "outputs": [
    {
     "name": "stdout",
     "output_type": "stream",
     "text": [
      "[0 1]\n",
      "[1 0]\n"
     ]
    }
   ],
   "source": [
    "# Remove records where RevLineCr != 'Y' or 'N' and LowDoc != 'Y' or 'N'\n",
    "df_copy = df_copy[(df_copy['RevLineCr'] == 'Y') | (df_copy['RevLineCr'] == 'N')]\n",
    "df_copy = df_copy[(df_copy['LowDoc'] == 'Y') | (df_copy['LowDoc'] == 'N')]\n",
    "\n",
    "# RevLineCr and LowDoc: 0 = No, 1 = Yes\n",
    "df_copy['RevLineCr'] = np.where(df_copy['RevLineCr'] == 'N', 0, 1)\n",
    "df_copy['LowDoc'] = np.where(df_copy['LowDoc'] == 'N', 0, 1)\n",
    "\n",
    "# Check that it worked\n",
    "print(df_copy['RevLineCr'].unique())\n",
    "print(df_copy['LowDoc'].unique())"
   ]
  },
  {
   "cell_type": "code",
   "execution_count": 31,
   "id": "b686b63e",
   "metadata": {},
   "outputs": [
    {
     "data": {
      "text/plain": [
       "0    358558\n",
       "1     98382\n",
       "Name: Default, dtype: int64"
      ]
     },
     "execution_count": 31,
     "metadata": {},
     "output_type": "execute_result"
    }
   ],
   "source": [
    "# MIS_Status\n",
    "# Make Default target field based on MIS_Status where P I F = 0 and CHGOFF = 1 so we can see what features are prevalant in a defaulted loan\n",
    "df_copy['Default'] = np.where(df_copy['MIS_Status'] == 'P I F', 0, 1)\n",
    "df_copy['Default'].value_counts()"
   ]
  },
  {
   "cell_type": "code",
   "execution_count": 32,
   "id": "1c16fc18",
   "metadata": {},
   "outputs": [],
   "source": [
    "# Convert ApprovalDate and DisbursementDate columns to datetime values\n",
    "# ChgOffDate not changed to datetime since it is not of value and will be removed later\n",
    "df_copy[['ApprovalDate', 'DisbursementDate']] = df_copy[['ApprovalDate', 'DisbursementDate']].apply(pd.to_datetime)"
   ]
  },
  {
   "cell_type": "code",
   "execution_count": 33,
   "id": "32d97848",
   "metadata": {},
   "outputs": [],
   "source": [
    "# Create DaysToDisbursement column which calculates the number of days passed between DisbursementDate and ApprovalDate\n",
    "df_copy['DaysToDisbursement'] = df_copy['DisbursementDate'] - df_copy['ApprovalDate']\n",
    "\n",
    "# Change DaysToDisbursement from a timedelta64 dtype to an int64 dtype\n",
    "# Converts series to str, removes all characters after the space before 'd' in days for each record, then changes the dtype to int\n",
    "df_copy['DaysToDisbursement'] = df_copy['DaysToDisbursement'].astype('str').apply(lambda x: x[:x.index('d') - 1]).astype('int64')"
   ]
  },
  {
   "cell_type": "code",
   "execution_count": 34,
   "id": "18a2d183",
   "metadata": {},
   "outputs": [],
   "source": [
    "# Create DisbursementFY field for time selection criteria later\n",
    "df_copy['DisbursementFY'] = df_copy['DisbursementDate'].map(lambda x: x.year)"
   ]
  },
  {
   "cell_type": "code",
   "execution_count": 35,
   "id": "cbb9999b",
   "metadata": {},
   "outputs": [],
   "source": [
    "# Create StateSame flag field which identifies where the business State is the same as the BankState\n",
    "df_copy['StateSame'] = np.where(df_copy['State'] == df_copy['BankState'], 1, 0)"
   ]
  },
  {
   "cell_type": "code",
   "execution_count": 36,
   "id": "8c46bf81",
   "metadata": {},
   "outputs": [],
   "source": [
    "# Create SBA_AppvPct field since the guaranteed amount is based on a percentage of the gross loan amount rather than dollar amount in most situations\n",
    "df_copy['SBA_AppvPct'] = df_copy['SBA_Appv'] / df_copy['GrAppv']"
   ]
  },
  {
   "cell_type": "code",
   "execution_count": 37,
   "id": "d58517bb",
   "metadata": {},
   "outputs": [],
   "source": [
    "# Create AppvDisbursed flag field signifying if the loan amount disbursed was equal to the full amount approved\n",
    "df_copy['AppvDisbursed'] = np.where(df_copy['DisbursementGross'] == df_copy['GrAppv'], 1, 0)"
   ]
  },
  {
   "cell_type": "code",
   "execution_count": 38,
   "id": "ccc8574b",
   "metadata": {},
   "outputs": [
    {
     "data": {
      "text/plain": [
       "LoanNr_ChkDgt                  int64\n",
       "Name                          object\n",
       "City                          object\n",
       "State                         object\n",
       "Zip                           object\n",
       "Bank                          object\n",
       "BankState                     object\n",
       "NAICS                          int64\n",
       "ApprovalDate          datetime64[ns]\n",
       "ApprovalFY                     int64\n",
       "Term                           int64\n",
       "NoEmp                          int64\n",
       "NewExist                       int64\n",
       "CreateJob                      int64\n",
       "RetainedJob                    int64\n",
       "FranchiseCode                  int64\n",
       "UrbanRural                    object\n",
       "RevLineCr                      int32\n",
       "LowDoc                         int32\n",
       "ChgOffDate                    object\n",
       "DisbursementDate      datetime64[ns]\n",
       "DisbursementGross            float64\n",
       "BalanceGross                 float64\n",
       "MIS_Status                    object\n",
       "ChgOffPrinGr                 float64\n",
       "GrAppv                       float64\n",
       "SBA_Appv                     float64\n",
       "Industry                      object\n",
       "IsFranchise                  float64\n",
       "NewBusiness                  float64\n",
       "Default                        int32\n",
       "DaysToDisbursement             int64\n",
       "DisbursementFY                 int64\n",
       "StateSame                      int32\n",
       "SBA_AppvPct                  float64\n",
       "AppvDisbursed                  int32\n",
       "dtype: object"
      ]
     },
     "execution_count": 38,
     "metadata": {},
     "output_type": "execute_result"
    }
   ],
   "source": [
    "df_copy.dtypes"
   ]
  },
  {
   "cell_type": "code",
   "execution_count": 39,
   "id": "f0d77ad8",
   "metadata": {},
   "outputs": [
    {
     "data": {
      "text/plain": [
       "LoanNr_ChkDgt                  int64\n",
       "Name                          object\n",
       "City                          object\n",
       "State                         object\n",
       "Zip                           object\n",
       "Bank                          object\n",
       "BankState                     object\n",
       "NAICS                          int64\n",
       "ApprovalDate          datetime64[ns]\n",
       "ApprovalFY                     int64\n",
       "Term                           int64\n",
       "NoEmp                          int64\n",
       "NewExist                       int64\n",
       "CreateJob                      int64\n",
       "RetainedJob                    int64\n",
       "FranchiseCode                  int64\n",
       "UrbanRural                    object\n",
       "RevLineCr                      int32\n",
       "LowDoc                         int32\n",
       "ChgOffDate                    object\n",
       "DisbursementDate      datetime64[ns]\n",
       "DisbursementGross            float64\n",
       "BalanceGross                 float64\n",
       "MIS_Status                    object\n",
       "ChgOffPrinGr                 float64\n",
       "GrAppv                       float64\n",
       "SBA_Appv                     float64\n",
       "Industry                      object\n",
       "IsFranchise                    int64\n",
       "NewBusiness                    int64\n",
       "Default                        int32\n",
       "DaysToDisbursement             int64\n",
       "DisbursementFY                 int64\n",
       "StateSame                      int32\n",
       "SBA_AppvPct                  float64\n",
       "AppvDisbursed                  int32\n",
       "dtype: object"
      ]
     },
     "execution_count": 39,
     "metadata": {},
     "output_type": "execute_result"
    }
   ],
   "source": [
    "# Format dtypes where necessary after feature engineering\n",
    "df_copy = df_copy.astype({'IsFranchise': 'int64', 'NewBusiness': 'int64'})\n",
    "df_copy.dtypes"
   ]
  },
  {
   "cell_type": "code",
   "execution_count": 40,
   "id": "93712d40",
   "metadata": {},
   "outputs": [],
   "source": [
    "df_copy.drop(columns=['LoanNr_ChkDgt', 'Name', 'City', 'Zip', 'Bank', 'NAICS', 'ApprovalDate', 'NewExist', 'FranchiseCode',\n",
    "                      'ChgOffDate', 'DisbursementDate', 'BalanceGross', 'ChgOffPrinGr', 'SBA_Appv', 'MIS_Status'], inplace=True)"
   ]
  },
  {
   "cell_type": "code",
   "execution_count": 41,
   "id": "4cbe87b8",
   "metadata": {},
   "outputs": [
    {
     "data": {
      "text/plain": [
       "State                 0\n",
       "BankState             0\n",
       "ApprovalFY            0\n",
       "Term                  0\n",
       "NoEmp                 0\n",
       "CreateJob             0\n",
       "RetainedJob           0\n",
       "UrbanRural            0\n",
       "RevLineCr             0\n",
       "LowDoc                0\n",
       "DisbursementGross     0\n",
       "GrAppv                0\n",
       "Industry              0\n",
       "IsFranchise           0\n",
       "NewBusiness           0\n",
       "Default               0\n",
       "DaysToDisbursement    0\n",
       "DisbursementFY        0\n",
       "StateSame             0\n",
       "SBA_AppvPct           0\n",
       "AppvDisbursed         0\n",
       "dtype: int64"
      ]
     },
     "execution_count": 41,
     "metadata": {},
     "output_type": "execute_result"
    }
   ],
   "source": [
    "# Verify all null values are removed from data\n",
    "df_copy.isnull().sum()"
   ]
  },
  {
   "cell_type": "code",
   "execution_count": 42,
   "id": "7d81e0c1",
   "metadata": {},
   "outputs": [
    {
     "data": {
      "text/plain": [
       "(456940, 21)"
      ]
     },
     "execution_count": 42,
     "metadata": {},
     "output_type": "execute_result"
    }
   ],
   "source": [
    "# Check the shape of the data as it stands\n",
    "df_copy.shape"
   ]
  },
  {
   "cell_type": "code",
   "execution_count": 43,
   "id": "1e426a77",
   "metadata": {},
   "outputs": [],
   "source": [
    "# Field for loans backed by Real Estate (loans with a term of at least 20 years)\n",
    "df_copy['RealEstate'] = np.where(df_copy['Term'] >= 240, 1, 0)\n",
    "\n",
    "# Field for loans active during the Great Recession (2007-2009)\n",
    "df_copy['GreatRecession'] = np.where(((2007 <= df_copy['DisbursementFY']) & (df_copy['DisbursementFY'] <= 2009)) | \n",
    "                                     ((df_copy['DisbursementFY'] < 2007) & (df_copy['DisbursementFY'] + (df_copy['Term']/12) >= 2007)), 1, 0)"
   ]
  },
  {
   "cell_type": "code",
   "execution_count": 44,
   "id": "653160eb",
   "metadata": {},
   "outputs": [
    {
     "data": {
      "text/plain": [
       "(438504, 23)"
      ]
     },
     "execution_count": 44,
     "metadata": {},
     "output_type": "execute_result"
    }
   ],
   "source": [
    "# Select only records with a disbursement year through 2010\n",
    "df_copy = df_copy[df_copy['DisbursementFY'] <= 2010]\n",
    "\n",
    "# Check how many records remain\n",
    "df_copy.shape"
   ]
  },
  {
   "cell_type": "code",
   "execution_count": 45,
   "id": "691cb663",
   "metadata": {},
   "outputs": [
    {
     "data": {
      "text/html": [
       "<div>\n",
       "<style scoped>\n",
       "    .dataframe tbody tr th:only-of-type {\n",
       "        vertical-align: middle;\n",
       "    }\n",
       "\n",
       "    .dataframe tbody tr th {\n",
       "        vertical-align: top;\n",
       "    }\n",
       "\n",
       "    .dataframe thead th {\n",
       "        text-align: right;\n",
       "    }\n",
       "</style>\n",
       "<table border=\"1\" class=\"dataframe\">\n",
       "  <thead>\n",
       "    <tr style=\"text-align: right;\">\n",
       "      <th></th>\n",
       "      <th>State</th>\n",
       "      <th>BankState</th>\n",
       "      <th>ApprovalFY</th>\n",
       "      <th>Term</th>\n",
       "      <th>NoEmp</th>\n",
       "      <th>CreateJob</th>\n",
       "      <th>RetainedJob</th>\n",
       "      <th>UrbanRural</th>\n",
       "      <th>RevLineCr</th>\n",
       "      <th>LowDoc</th>\n",
       "      <th>...</th>\n",
       "      <th>IsFranchise</th>\n",
       "      <th>NewBusiness</th>\n",
       "      <th>Default</th>\n",
       "      <th>DaysToDisbursement</th>\n",
       "      <th>DisbursementFY</th>\n",
       "      <th>StateSame</th>\n",
       "      <th>SBA_AppvPct</th>\n",
       "      <th>AppvDisbursed</th>\n",
       "      <th>RealEstate</th>\n",
       "      <th>GreatRecession</th>\n",
       "    </tr>\n",
       "  </thead>\n",
       "  <tbody>\n",
       "    <tr>\n",
       "      <th>count</th>\n",
       "      <td>438504</td>\n",
       "      <td>438504</td>\n",
       "      <td>438504.000000</td>\n",
       "      <td>438504.000000</td>\n",
       "      <td>438504.000000</td>\n",
       "      <td>438504.000000</td>\n",
       "      <td>438504.000000</td>\n",
       "      <td>438504</td>\n",
       "      <td>438504.000000</td>\n",
       "      <td>438504.000000</td>\n",
       "      <td>...</td>\n",
       "      <td>438504.000000</td>\n",
       "      <td>438504.000000</td>\n",
       "      <td>438504.000000</td>\n",
       "      <td>438504.000000</td>\n",
       "      <td>438504.000000</td>\n",
       "      <td>438504.000000</td>\n",
       "      <td>438504.000000</td>\n",
       "      <td>438504.000000</td>\n",
       "      <td>438504.000000</td>\n",
       "      <td>438504.000000</td>\n",
       "    </tr>\n",
       "    <tr>\n",
       "      <th>unique</th>\n",
       "      <td>51</td>\n",
       "      <td>53</td>\n",
       "      <td>NaN</td>\n",
       "      <td>NaN</td>\n",
       "      <td>NaN</td>\n",
       "      <td>NaN</td>\n",
       "      <td>NaN</td>\n",
       "      <td>3</td>\n",
       "      <td>NaN</td>\n",
       "      <td>NaN</td>\n",
       "      <td>...</td>\n",
       "      <td>NaN</td>\n",
       "      <td>NaN</td>\n",
       "      <td>NaN</td>\n",
       "      <td>NaN</td>\n",
       "      <td>NaN</td>\n",
       "      <td>NaN</td>\n",
       "      <td>NaN</td>\n",
       "      <td>NaN</td>\n",
       "      <td>NaN</td>\n",
       "      <td>NaN</td>\n",
       "    </tr>\n",
       "    <tr>\n",
       "      <th>top</th>\n",
       "      <td>CA</td>\n",
       "      <td>NC</td>\n",
       "      <td>NaN</td>\n",
       "      <td>NaN</td>\n",
       "      <td>NaN</td>\n",
       "      <td>NaN</td>\n",
       "      <td>NaN</td>\n",
       "      <td>1</td>\n",
       "      <td>NaN</td>\n",
       "      <td>NaN</td>\n",
       "      <td>...</td>\n",
       "      <td>NaN</td>\n",
       "      <td>NaN</td>\n",
       "      <td>NaN</td>\n",
       "      <td>NaN</td>\n",
       "      <td>NaN</td>\n",
       "      <td>NaN</td>\n",
       "      <td>NaN</td>\n",
       "      <td>NaN</td>\n",
       "      <td>NaN</td>\n",
       "      <td>NaN</td>\n",
       "    </tr>\n",
       "    <tr>\n",
       "      <th>freq</th>\n",
       "      <td>59171</td>\n",
       "      <td>55644</td>\n",
       "      <td>NaN</td>\n",
       "      <td>NaN</td>\n",
       "      <td>NaN</td>\n",
       "      <td>NaN</td>\n",
       "      <td>NaN</td>\n",
       "      <td>270482</td>\n",
       "      <td>NaN</td>\n",
       "      <td>NaN</td>\n",
       "      <td>...</td>\n",
       "      <td>NaN</td>\n",
       "      <td>NaN</td>\n",
       "      <td>NaN</td>\n",
       "      <td>NaN</td>\n",
       "      <td>NaN</td>\n",
       "      <td>NaN</td>\n",
       "      <td>NaN</td>\n",
       "      <td>NaN</td>\n",
       "      <td>NaN</td>\n",
       "      <td>NaN</td>\n",
       "    </tr>\n",
       "    <tr>\n",
       "      <th>mean</th>\n",
       "      <td>NaN</td>\n",
       "      <td>NaN</td>\n",
       "      <td>2002.665604</td>\n",
       "      <td>94.119445</td>\n",
       "      <td>9.794887</td>\n",
       "      <td>1.843611</td>\n",
       "      <td>4.568973</td>\n",
       "      <td>NaN</td>\n",
       "      <td>0.418959</td>\n",
       "      <td>0.057247</td>\n",
       "      <td>...</td>\n",
       "      <td>0.030597</td>\n",
       "      <td>0.263840</td>\n",
       "      <td>0.221918</td>\n",
       "      <td>109.090631</td>\n",
       "      <td>2002.705704</td>\n",
       "      <td>0.454094</td>\n",
       "      <td>0.654071</td>\n",
       "      <td>0.636478</td>\n",
       "      <td>0.111972</td>\n",
       "      <td>0.733934</td>\n",
       "    </tr>\n",
       "    <tr>\n",
       "      <th>std</th>\n",
       "      <td>NaN</td>\n",
       "      <td>NaN</td>\n",
       "      <td>5.492623</td>\n",
       "      <td>68.548785</td>\n",
       "      <td>57.674184</td>\n",
       "      <td>16.496650</td>\n",
       "      <td>15.330176</td>\n",
       "      <td>NaN</td>\n",
       "      <td>0.493389</td>\n",
       "      <td>0.232314</td>\n",
       "      <td>...</td>\n",
       "      <td>0.172224</td>\n",
       "      <td>0.440714</td>\n",
       "      <td>0.415537</td>\n",
       "      <td>182.221498</td>\n",
       "      <td>5.403909</td>\n",
       "      <td>0.497889</td>\n",
       "      <td>0.179932</td>\n",
       "      <td>0.481014</td>\n",
       "      <td>0.315332</td>\n",
       "      <td>0.441900</td>\n",
       "    </tr>\n",
       "    <tr>\n",
       "      <th>min</th>\n",
       "      <td>NaN</td>\n",
       "      <td>NaN</td>\n",
       "      <td>1984.000000</td>\n",
       "      <td>0.000000</td>\n",
       "      <td>0.000000</td>\n",
       "      <td>0.000000</td>\n",
       "      <td>0.000000</td>\n",
       "      <td>NaN</td>\n",
       "      <td>0.000000</td>\n",
       "      <td>0.000000</td>\n",
       "      <td>...</td>\n",
       "      <td>0.000000</td>\n",
       "      <td>0.000000</td>\n",
       "      <td>0.000000</td>\n",
       "      <td>-3614.000000</td>\n",
       "      <td>1984.000000</td>\n",
       "      <td>0.000000</td>\n",
       "      <td>0.050000</td>\n",
       "      <td>0.000000</td>\n",
       "      <td>0.000000</td>\n",
       "      <td>0.000000</td>\n",
       "    </tr>\n",
       "    <tr>\n",
       "      <th>25%</th>\n",
       "      <td>NaN</td>\n",
       "      <td>NaN</td>\n",
       "      <td>1999.000000</td>\n",
       "      <td>58.000000</td>\n",
       "      <td>2.000000</td>\n",
       "      <td>0.000000</td>\n",
       "      <td>0.000000</td>\n",
       "      <td>NaN</td>\n",
       "      <td>0.000000</td>\n",
       "      <td>0.000000</td>\n",
       "      <td>...</td>\n",
       "      <td>0.000000</td>\n",
       "      <td>0.000000</td>\n",
       "      <td>0.000000</td>\n",
       "      <td>27.000000</td>\n",
       "      <td>2000.000000</td>\n",
       "      <td>0.000000</td>\n",
       "      <td>0.500000</td>\n",
       "      <td>0.000000</td>\n",
       "      <td>0.000000</td>\n",
       "      <td>0.000000</td>\n",
       "    </tr>\n",
       "    <tr>\n",
       "      <th>50%</th>\n",
       "      <td>NaN</td>\n",
       "      <td>NaN</td>\n",
       "      <td>2005.000000</td>\n",
       "      <td>84.000000</td>\n",
       "      <td>4.000000</td>\n",
       "      <td>0.000000</td>\n",
       "      <td>1.000000</td>\n",
       "      <td>NaN</td>\n",
       "      <td>0.000000</td>\n",
       "      <td>0.000000</td>\n",
       "      <td>...</td>\n",
       "      <td>0.000000</td>\n",
       "      <td>0.000000</td>\n",
       "      <td>0.000000</td>\n",
       "      <td>51.000000</td>\n",
       "      <td>2005.000000</td>\n",
       "      <td>0.000000</td>\n",
       "      <td>0.500000</td>\n",
       "      <td>1.000000</td>\n",
       "      <td>0.000000</td>\n",
       "      <td>1.000000</td>\n",
       "    </tr>\n",
       "    <tr>\n",
       "      <th>75%</th>\n",
       "      <td>NaN</td>\n",
       "      <td>NaN</td>\n",
       "      <td>2007.000000</td>\n",
       "      <td>90.000000</td>\n",
       "      <td>9.000000</td>\n",
       "      <td>1.000000</td>\n",
       "      <td>4.000000</td>\n",
       "      <td>NaN</td>\n",
       "      <td>1.000000</td>\n",
       "      <td>0.000000</td>\n",
       "      <td>...</td>\n",
       "      <td>0.000000</td>\n",
       "      <td>1.000000</td>\n",
       "      <td>0.000000</td>\n",
       "      <td>109.000000</td>\n",
       "      <td>2007.000000</td>\n",
       "      <td>1.000000</td>\n",
       "      <td>0.829994</td>\n",
       "      <td>1.000000</td>\n",
       "      <td>0.000000</td>\n",
       "      <td>1.000000</td>\n",
       "    </tr>\n",
       "    <tr>\n",
       "      <th>max</th>\n",
       "      <td>NaN</td>\n",
       "      <td>NaN</td>\n",
       "      <td>2011.000000</td>\n",
       "      <td>527.000000</td>\n",
       "      <td>9999.000000</td>\n",
       "      <td>5621.000000</td>\n",
       "      <td>4441.000000</td>\n",
       "      <td>NaN</td>\n",
       "      <td>1.000000</td>\n",
       "      <td>1.000000</td>\n",
       "      <td>...</td>\n",
       "      <td>1.000000</td>\n",
       "      <td>1.000000</td>\n",
       "      <td>1.000000</td>\n",
       "      <td>4029.000000</td>\n",
       "      <td>2010.000000</td>\n",
       "      <td>1.000000</td>\n",
       "      <td>1.000000</td>\n",
       "      <td>1.000000</td>\n",
       "      <td>1.000000</td>\n",
       "      <td>1.000000</td>\n",
       "    </tr>\n",
       "  </tbody>\n",
       "</table>\n",
       "<p>11 rows × 23 columns</p>\n",
       "</div>"
      ],
      "text/plain": [
       "         State BankState     ApprovalFY           Term          NoEmp  \\\n",
       "count   438504    438504  438504.000000  438504.000000  438504.000000   \n",
       "unique      51        53            NaN            NaN            NaN   \n",
       "top         CA        NC            NaN            NaN            NaN   \n",
       "freq     59171     55644            NaN            NaN            NaN   \n",
       "mean       NaN       NaN    2002.665604      94.119445       9.794887   \n",
       "std        NaN       NaN       5.492623      68.548785      57.674184   \n",
       "min        NaN       NaN    1984.000000       0.000000       0.000000   \n",
       "25%        NaN       NaN    1999.000000      58.000000       2.000000   \n",
       "50%        NaN       NaN    2005.000000      84.000000       4.000000   \n",
       "75%        NaN       NaN    2007.000000      90.000000       9.000000   \n",
       "max        NaN       NaN    2011.000000     527.000000    9999.000000   \n",
       "\n",
       "            CreateJob    RetainedJob UrbanRural      RevLineCr         LowDoc  \\\n",
       "count   438504.000000  438504.000000     438504  438504.000000  438504.000000   \n",
       "unique            NaN            NaN          3            NaN            NaN   \n",
       "top               NaN            NaN          1            NaN            NaN   \n",
       "freq              NaN            NaN     270482            NaN            NaN   \n",
       "mean         1.843611       4.568973        NaN       0.418959       0.057247   \n",
       "std         16.496650      15.330176        NaN       0.493389       0.232314   \n",
       "min          0.000000       0.000000        NaN       0.000000       0.000000   \n",
       "25%          0.000000       0.000000        NaN       0.000000       0.000000   \n",
       "50%          0.000000       1.000000        NaN       0.000000       0.000000   \n",
       "75%          1.000000       4.000000        NaN       1.000000       0.000000   \n",
       "max       5621.000000    4441.000000        NaN       1.000000       1.000000   \n",
       "\n",
       "        ...    IsFranchise    NewBusiness        Default  DaysToDisbursement  \\\n",
       "count   ...  438504.000000  438504.000000  438504.000000       438504.000000   \n",
       "unique  ...            NaN            NaN            NaN                 NaN   \n",
       "top     ...            NaN            NaN            NaN                 NaN   \n",
       "freq    ...            NaN            NaN            NaN                 NaN   \n",
       "mean    ...       0.030597       0.263840       0.221918          109.090631   \n",
       "std     ...       0.172224       0.440714       0.415537          182.221498   \n",
       "min     ...       0.000000       0.000000       0.000000        -3614.000000   \n",
       "25%     ...       0.000000       0.000000       0.000000           27.000000   \n",
       "50%     ...       0.000000       0.000000       0.000000           51.000000   \n",
       "75%     ...       0.000000       1.000000       0.000000          109.000000   \n",
       "max     ...       1.000000       1.000000       1.000000         4029.000000   \n",
       "\n",
       "        DisbursementFY      StateSame    SBA_AppvPct  AppvDisbursed  \\\n",
       "count    438504.000000  438504.000000  438504.000000  438504.000000   \n",
       "unique             NaN            NaN            NaN            NaN   \n",
       "top                NaN            NaN            NaN            NaN   \n",
       "freq               NaN            NaN            NaN            NaN   \n",
       "mean       2002.705704       0.454094       0.654071       0.636478   \n",
       "std           5.403909       0.497889       0.179932       0.481014   \n",
       "min        1984.000000       0.000000       0.050000       0.000000   \n",
       "25%        2000.000000       0.000000       0.500000       0.000000   \n",
       "50%        2005.000000       0.000000       0.500000       1.000000   \n",
       "75%        2007.000000       1.000000       0.829994       1.000000   \n",
       "max        2010.000000       1.000000       1.000000       1.000000   \n",
       "\n",
       "           RealEstate  GreatRecession  \n",
       "count   438504.000000   438504.000000  \n",
       "unique            NaN             NaN  \n",
       "top               NaN             NaN  \n",
       "freq              NaN             NaN  \n",
       "mean         0.111972        0.733934  \n",
       "std          0.315332        0.441900  \n",
       "min          0.000000        0.000000  \n",
       "25%          0.000000        0.000000  \n",
       "50%          0.000000        1.000000  \n",
       "75%          0.000000        1.000000  \n",
       "max          1.000000        1.000000  \n",
       "\n",
       "[11 rows x 23 columns]"
      ]
     },
     "execution_count": 45,
     "metadata": {},
     "output_type": "execute_result"
    }
   ],
   "source": [
    "df_copy.describe(include=['object', 'float', 'int'])"
   ]
  },
  {
   "cell_type": "code",
   "execution_count": 46,
   "id": "2d920b97",
   "metadata": {},
   "outputs": [],
   "source": [
    "# Create flag to signify if a larger amount was disbursed than what the Bank had approved\n",
    "# Likely RevLineCr?\n",
    "df_copy['DisbursedGreaterAppv'] = np.where(df_copy['DisbursementGross'] > df_copy['GrAppv'], 1, 0)"
   ]
  },
  {
   "cell_type": "code",
   "execution_count": 47,
   "id": "b22a1335",
   "metadata": {},
   "outputs": [
    {
     "data": {
      "text/plain": [
       "(438090, 24)"
      ]
     },
     "execution_count": 47,
     "metadata": {},
     "output_type": "execute_result"
    }
   ],
   "source": [
    "# Remove records with loans disbursed prior to being approved\n",
    "df_copy = df_copy[df_copy['DaysToDisbursement'] >= 0]\n",
    "\n",
    "# Check how many records are left\n",
    "df_copy.shape"
   ]
  },
  {
   "cell_type": "code",
   "execution_count": 48,
   "id": "43942827",
   "metadata": {},
   "outputs": [
    {
     "data": {
      "text/html": [
       "<div>\n",
       "<style scoped>\n",
       "    .dataframe tbody tr th:only-of-type {\n",
       "        vertical-align: middle;\n",
       "    }\n",
       "\n",
       "    .dataframe tbody tr th {\n",
       "        vertical-align: top;\n",
       "    }\n",
       "\n",
       "    .dataframe thead th {\n",
       "        text-align: right;\n",
       "    }\n",
       "</style>\n",
       "<table border=\"1\" class=\"dataframe\">\n",
       "  <thead>\n",
       "    <tr style=\"text-align: right;\">\n",
       "      <th></th>\n",
       "      <th>State</th>\n",
       "      <th>BankState</th>\n",
       "      <th>ApprovalFY</th>\n",
       "      <th>Term</th>\n",
       "      <th>NoEmp</th>\n",
       "      <th>CreateJob</th>\n",
       "      <th>RetainedJob</th>\n",
       "      <th>UrbanRural</th>\n",
       "      <th>RevLineCr</th>\n",
       "      <th>LowDoc</th>\n",
       "      <th>...</th>\n",
       "      <th>NewBusiness</th>\n",
       "      <th>Default</th>\n",
       "      <th>DaysToDisbursement</th>\n",
       "      <th>DisbursementFY</th>\n",
       "      <th>StateSame</th>\n",
       "      <th>SBA_AppvPct</th>\n",
       "      <th>AppvDisbursed</th>\n",
       "      <th>RealEstate</th>\n",
       "      <th>GreatRecession</th>\n",
       "      <th>DisbursedGreaterAppv</th>\n",
       "    </tr>\n",
       "  </thead>\n",
       "  <tbody>\n",
       "    <tr>\n",
       "      <th>count</th>\n",
       "      <td>438090</td>\n",
       "      <td>438090</td>\n",
       "      <td>438090.000000</td>\n",
       "      <td>438090.000000</td>\n",
       "      <td>438090.000000</td>\n",
       "      <td>438090.000000</td>\n",
       "      <td>438090.000000</td>\n",
       "      <td>438090</td>\n",
       "      <td>438090.000000</td>\n",
       "      <td>438090.000000</td>\n",
       "      <td>...</td>\n",
       "      <td>438090.000000</td>\n",
       "      <td>438090.000000</td>\n",
       "      <td>438090.000000</td>\n",
       "      <td>438090.000000</td>\n",
       "      <td>438090.000000</td>\n",
       "      <td>438090.000000</td>\n",
       "      <td>438090.000000</td>\n",
       "      <td>438090.000000</td>\n",
       "      <td>438090.000000</td>\n",
       "      <td>438090.000000</td>\n",
       "    </tr>\n",
       "    <tr>\n",
       "      <th>unique</th>\n",
       "      <td>51</td>\n",
       "      <td>53</td>\n",
       "      <td>NaN</td>\n",
       "      <td>NaN</td>\n",
       "      <td>NaN</td>\n",
       "      <td>NaN</td>\n",
       "      <td>NaN</td>\n",
       "      <td>3</td>\n",
       "      <td>NaN</td>\n",
       "      <td>NaN</td>\n",
       "      <td>...</td>\n",
       "      <td>NaN</td>\n",
       "      <td>NaN</td>\n",
       "      <td>NaN</td>\n",
       "      <td>NaN</td>\n",
       "      <td>NaN</td>\n",
       "      <td>NaN</td>\n",
       "      <td>NaN</td>\n",
       "      <td>NaN</td>\n",
       "      <td>NaN</td>\n",
       "      <td>NaN</td>\n",
       "    </tr>\n",
       "    <tr>\n",
       "      <th>top</th>\n",
       "      <td>CA</td>\n",
       "      <td>NC</td>\n",
       "      <td>NaN</td>\n",
       "      <td>NaN</td>\n",
       "      <td>NaN</td>\n",
       "      <td>NaN</td>\n",
       "      <td>NaN</td>\n",
       "      <td>1</td>\n",
       "      <td>NaN</td>\n",
       "      <td>NaN</td>\n",
       "      <td>...</td>\n",
       "      <td>NaN</td>\n",
       "      <td>NaN</td>\n",
       "      <td>NaN</td>\n",
       "      <td>NaN</td>\n",
       "      <td>NaN</td>\n",
       "      <td>NaN</td>\n",
       "      <td>NaN</td>\n",
       "      <td>NaN</td>\n",
       "      <td>NaN</td>\n",
       "      <td>NaN</td>\n",
       "    </tr>\n",
       "    <tr>\n",
       "      <th>freq</th>\n",
       "      <td>59121</td>\n",
       "      <td>55628</td>\n",
       "      <td>NaN</td>\n",
       "      <td>NaN</td>\n",
       "      <td>NaN</td>\n",
       "      <td>NaN</td>\n",
       "      <td>NaN</td>\n",
       "      <td>270261</td>\n",
       "      <td>NaN</td>\n",
       "      <td>NaN</td>\n",
       "      <td>...</td>\n",
       "      <td>NaN</td>\n",
       "      <td>NaN</td>\n",
       "      <td>NaN</td>\n",
       "      <td>NaN</td>\n",
       "      <td>NaN</td>\n",
       "      <td>NaN</td>\n",
       "      <td>NaN</td>\n",
       "      <td>NaN</td>\n",
       "      <td>NaN</td>\n",
       "      <td>NaN</td>\n",
       "    </tr>\n",
       "    <tr>\n",
       "      <th>mean</th>\n",
       "      <td>NaN</td>\n",
       "      <td>NaN</td>\n",
       "      <td>2002.662987</td>\n",
       "      <td>94.113178</td>\n",
       "      <td>9.795026</td>\n",
       "      <td>1.843525</td>\n",
       "      <td>4.567514</td>\n",
       "      <td>NaN</td>\n",
       "      <td>0.419122</td>\n",
       "      <td>0.057189</td>\n",
       "      <td>...</td>\n",
       "      <td>0.263825</td>\n",
       "      <td>0.222039</td>\n",
       "      <td>109.220368</td>\n",
       "      <td>2002.703264</td>\n",
       "      <td>0.453993</td>\n",
       "      <td>0.654037</td>\n",
       "      <td>0.636351</td>\n",
       "      <td>0.111979</td>\n",
       "      <td>0.734509</td>\n",
       "      <td>0.314639</td>\n",
       "    </tr>\n",
       "    <tr>\n",
       "      <th>std</th>\n",
       "      <td>NaN</td>\n",
       "      <td>NaN</td>\n",
       "      <td>5.490509</td>\n",
       "      <td>68.545279</td>\n",
       "      <td>57.699074</td>\n",
       "      <td>16.503378</td>\n",
       "      <td>15.332166</td>\n",
       "      <td>NaN</td>\n",
       "      <td>0.493416</td>\n",
       "      <td>0.232204</td>\n",
       "      <td>...</td>\n",
       "      <td>0.440706</td>\n",
       "      <td>0.415618</td>\n",
       "      <td>182.165509</td>\n",
       "      <td>5.401641</td>\n",
       "      <td>0.497879</td>\n",
       "      <td>0.179937</td>\n",
       "      <td>0.481050</td>\n",
       "      <td>0.315341</td>\n",
       "      <td>0.441595</td>\n",
       "      <td>0.464372</td>\n",
       "    </tr>\n",
       "    <tr>\n",
       "      <th>min</th>\n",
       "      <td>NaN</td>\n",
       "      <td>NaN</td>\n",
       "      <td>1984.000000</td>\n",
       "      <td>0.000000</td>\n",
       "      <td>0.000000</td>\n",
       "      <td>0.000000</td>\n",
       "      <td>0.000000</td>\n",
       "      <td>NaN</td>\n",
       "      <td>0.000000</td>\n",
       "      <td>0.000000</td>\n",
       "      <td>...</td>\n",
       "      <td>0.000000</td>\n",
       "      <td>0.000000</td>\n",
       "      <td>0.000000</td>\n",
       "      <td>1984.000000</td>\n",
       "      <td>0.000000</td>\n",
       "      <td>0.050000</td>\n",
       "      <td>0.000000</td>\n",
       "      <td>0.000000</td>\n",
       "      <td>0.000000</td>\n",
       "      <td>0.000000</td>\n",
       "    </tr>\n",
       "    <tr>\n",
       "      <th>25%</th>\n",
       "      <td>NaN</td>\n",
       "      <td>NaN</td>\n",
       "      <td>1999.000000</td>\n",
       "      <td>58.000000</td>\n",
       "      <td>2.000000</td>\n",
       "      <td>0.000000</td>\n",
       "      <td>0.000000</td>\n",
       "      <td>NaN</td>\n",
       "      <td>0.000000</td>\n",
       "      <td>0.000000</td>\n",
       "      <td>...</td>\n",
       "      <td>0.000000</td>\n",
       "      <td>0.000000</td>\n",
       "      <td>27.000000</td>\n",
       "      <td>2000.000000</td>\n",
       "      <td>0.000000</td>\n",
       "      <td>0.500000</td>\n",
       "      <td>0.000000</td>\n",
       "      <td>0.000000</td>\n",
       "      <td>0.000000</td>\n",
       "      <td>0.000000</td>\n",
       "    </tr>\n",
       "    <tr>\n",
       "      <th>50%</th>\n",
       "      <td>NaN</td>\n",
       "      <td>NaN</td>\n",
       "      <td>2005.000000</td>\n",
       "      <td>84.000000</td>\n",
       "      <td>4.000000</td>\n",
       "      <td>0.000000</td>\n",
       "      <td>1.000000</td>\n",
       "      <td>NaN</td>\n",
       "      <td>0.000000</td>\n",
       "      <td>0.000000</td>\n",
       "      <td>...</td>\n",
       "      <td>0.000000</td>\n",
       "      <td>0.000000</td>\n",
       "      <td>51.000000</td>\n",
       "      <td>2005.000000</td>\n",
       "      <td>0.000000</td>\n",
       "      <td>0.500000</td>\n",
       "      <td>1.000000</td>\n",
       "      <td>0.000000</td>\n",
       "      <td>1.000000</td>\n",
       "      <td>0.000000</td>\n",
       "    </tr>\n",
       "    <tr>\n",
       "      <th>75%</th>\n",
       "      <td>NaN</td>\n",
       "      <td>NaN</td>\n",
       "      <td>2007.000000</td>\n",
       "      <td>90.000000</td>\n",
       "      <td>9.000000</td>\n",
       "      <td>1.000000</td>\n",
       "      <td>4.000000</td>\n",
       "      <td>NaN</td>\n",
       "      <td>1.000000</td>\n",
       "      <td>0.000000</td>\n",
       "      <td>...</td>\n",
       "      <td>1.000000</td>\n",
       "      <td>0.000000</td>\n",
       "      <td>109.000000</td>\n",
       "      <td>2007.000000</td>\n",
       "      <td>1.000000</td>\n",
       "      <td>0.829500</td>\n",
       "      <td>1.000000</td>\n",
       "      <td>0.000000</td>\n",
       "      <td>1.000000</td>\n",
       "      <td>1.000000</td>\n",
       "    </tr>\n",
       "    <tr>\n",
       "      <th>max</th>\n",
       "      <td>NaN</td>\n",
       "      <td>NaN</td>\n",
       "      <td>2011.000000</td>\n",
       "      <td>527.000000</td>\n",
       "      <td>9999.000000</td>\n",
       "      <td>5621.000000</td>\n",
       "      <td>4441.000000</td>\n",
       "      <td>NaN</td>\n",
       "      <td>1.000000</td>\n",
       "      <td>1.000000</td>\n",
       "      <td>...</td>\n",
       "      <td>1.000000</td>\n",
       "      <td>1.000000</td>\n",
       "      <td>4029.000000</td>\n",
       "      <td>2010.000000</td>\n",
       "      <td>1.000000</td>\n",
       "      <td>1.000000</td>\n",
       "      <td>1.000000</td>\n",
       "      <td>1.000000</td>\n",
       "      <td>1.000000</td>\n",
       "      <td>1.000000</td>\n",
       "    </tr>\n",
       "  </tbody>\n",
       "</table>\n",
       "<p>11 rows × 24 columns</p>\n",
       "</div>"
      ],
      "text/plain": [
       "         State BankState     ApprovalFY           Term          NoEmp  \\\n",
       "count   438090    438090  438090.000000  438090.000000  438090.000000   \n",
       "unique      51        53            NaN            NaN            NaN   \n",
       "top         CA        NC            NaN            NaN            NaN   \n",
       "freq     59121     55628            NaN            NaN            NaN   \n",
       "mean       NaN       NaN    2002.662987      94.113178       9.795026   \n",
       "std        NaN       NaN       5.490509      68.545279      57.699074   \n",
       "min        NaN       NaN    1984.000000       0.000000       0.000000   \n",
       "25%        NaN       NaN    1999.000000      58.000000       2.000000   \n",
       "50%        NaN       NaN    2005.000000      84.000000       4.000000   \n",
       "75%        NaN       NaN    2007.000000      90.000000       9.000000   \n",
       "max        NaN       NaN    2011.000000     527.000000    9999.000000   \n",
       "\n",
       "            CreateJob    RetainedJob UrbanRural      RevLineCr         LowDoc  \\\n",
       "count   438090.000000  438090.000000     438090  438090.000000  438090.000000   \n",
       "unique            NaN            NaN          3            NaN            NaN   \n",
       "top               NaN            NaN          1            NaN            NaN   \n",
       "freq              NaN            NaN     270261            NaN            NaN   \n",
       "mean         1.843525       4.567514        NaN       0.419122       0.057189   \n",
       "std         16.503378      15.332166        NaN       0.493416       0.232204   \n",
       "min          0.000000       0.000000        NaN       0.000000       0.000000   \n",
       "25%          0.000000       0.000000        NaN       0.000000       0.000000   \n",
       "50%          0.000000       1.000000        NaN       0.000000       0.000000   \n",
       "75%          1.000000       4.000000        NaN       1.000000       0.000000   \n",
       "max       5621.000000    4441.000000        NaN       1.000000       1.000000   \n",
       "\n",
       "        ...    NewBusiness        Default DaysToDisbursement  DisbursementFY  \\\n",
       "count   ...  438090.000000  438090.000000      438090.000000   438090.000000   \n",
       "unique  ...            NaN            NaN                NaN             NaN   \n",
       "top     ...            NaN            NaN                NaN             NaN   \n",
       "freq    ...            NaN            NaN                NaN             NaN   \n",
       "mean    ...       0.263825       0.222039         109.220368     2002.703264   \n",
       "std     ...       0.440706       0.415618         182.165509        5.401641   \n",
       "min     ...       0.000000       0.000000           0.000000     1984.000000   \n",
       "25%     ...       0.000000       0.000000          27.000000     2000.000000   \n",
       "50%     ...       0.000000       0.000000          51.000000     2005.000000   \n",
       "75%     ...       1.000000       0.000000         109.000000     2007.000000   \n",
       "max     ...       1.000000       1.000000        4029.000000     2010.000000   \n",
       "\n",
       "            StateSame    SBA_AppvPct  AppvDisbursed     RealEstate  \\\n",
       "count   438090.000000  438090.000000  438090.000000  438090.000000   \n",
       "unique            NaN            NaN            NaN            NaN   \n",
       "top               NaN            NaN            NaN            NaN   \n",
       "freq              NaN            NaN            NaN            NaN   \n",
       "mean         0.453993       0.654037       0.636351       0.111979   \n",
       "std          0.497879       0.179937       0.481050       0.315341   \n",
       "min          0.000000       0.050000       0.000000       0.000000   \n",
       "25%          0.000000       0.500000       0.000000       0.000000   \n",
       "50%          0.000000       0.500000       1.000000       0.000000   \n",
       "75%          1.000000       0.829500       1.000000       0.000000   \n",
       "max          1.000000       1.000000       1.000000       1.000000   \n",
       "\n",
       "        GreatRecession  DisbursedGreaterAppv  \n",
       "count    438090.000000         438090.000000  \n",
       "unique             NaN                   NaN  \n",
       "top                NaN                   NaN  \n",
       "freq               NaN                   NaN  \n",
       "mean          0.734509              0.314639  \n",
       "std           0.441595              0.464372  \n",
       "min           0.000000              0.000000  \n",
       "25%           0.000000              0.000000  \n",
       "50%           1.000000              0.000000  \n",
       "75%           1.000000              1.000000  \n",
       "max           1.000000              1.000000  \n",
       "\n",
       "[11 rows x 24 columns]"
      ]
     },
     "execution_count": 48,
     "metadata": {},
     "output_type": "execute_result"
    }
   ],
   "source": [
    "df_copy.describe(include=['object', 'float', 'int'])"
   ]
  },
  {
   "cell_type": "code",
   "execution_count": 49,
   "id": "744b8b0f",
   "metadata": {},
   "outputs": [
    {
     "data": {
      "image/png": "[encoded data removed]",
      "text/plain": [
       "<Figure size 1080x720 with 2 Axes>"
      ]
     },
     "metadata": {
      "needs_background": "light"
     },
     "output_type": "display_data"
    }
   ],
   "source": [
    "# Correlation Matrix\n",
    "cor_fig, cor_ax = plt.subplots(figsize=(15, 10))\n",
    "corr_matrix = df_copy.corr()\n",
    "cor_ax = sns.heatmap(corr_matrix, annot=True)\n",
    "plt.xticks(rotation=30, horizontalalignment='right', fontsize=8)\n",
    "plt.yticks(fontsize=8)\n",
    "\n",
    "plt.show()"
   ]
  },
  {
   "cell_type": "code",
   "execution_count": 50,
   "id": "098f580b",
   "metadata": {},
   "outputs": [
    {
     "name": "stderr",
     "output_type": "stream",
     "text": [
      "<ipython-input-50-9d5f22d08753>:18: UserWarning: FixedFormatter should only be used together with FixedLocator\n",
      "  ax1.set_xticklabels(df_industrySum.index, rotation=30, horizontalalignment='right', fontsize=10)\n",
      "<ipython-input-50-9d5f22d08753>:26: UserWarning: FixedFormatter should only be used together with FixedLocator\n",
      "  ax2.set_xticklabels(df_industryAve.index, rotation=30, horizontalalignment='right', fontsize=10)\n"
     ]
    },
    {
     "data": {
      "image/png": "[encoded data removed]",
      "text/plain": [
       "<Figure size 1800x360 with 2 Axes>"
      ]
     },
     "metadata": {
      "needs_background": "light"
     },
     "output_type": "display_data"
    }
   ],
   "source": [
    "# Total/Average disbursed loan amount by industry\n",
    "# Create a groupby object on Industry for use in visualization\n",
    "industry_group = df_copy.groupby(['Industry'])\n",
    "\n",
    "# Data frames based on groupby by Industry looking at aggregate and average values\n",
    "df_industrySum = industry_group.sum().sort_values('DisbursementGross', ascending=False)\n",
    "df_industryAve = industry_group.mean().sort_values('DisbursementGross', ascending=False)\n",
    "\n",
    "# Establish figure for placing bar charts side-by-side\n",
    "fig = plt.figure(figsize=(25, 5))\n",
    "\n",
    "# Add subplots to figure to build 1x2 grid and specify position of each subplot\n",
    "ax1 = fig.add_subplot(1, 2, 1)\n",
    "ax2 = fig.add_subplot(1, 2, 2)\n",
    "\n",
    "# Bar chart 1 = Gross SBA Loan Disbursement by Industry\n",
    "ax1.bar(df_industrySum.index, df_industrySum['DisbursementGross'] / 1000000000)\n",
    "ax1.set_xticklabels(df_industrySum.index, rotation=30, horizontalalignment='right', fontsize=10)\n",
    "\n",
    "ax1.set_title('Gross SBA Loan Disbursement by Industry from 1984-2010', fontsize=15)\n",
    "ax1.set_xlabel('Industry')\n",
    "ax1.set_ylabel('Gross Loan Disbursement (Billions)')\n",
    "\n",
    "# Bar chart 2 = Average SBA Loan Disbursement by Industry\n",
    "ax2.bar(df_industryAve.index, df_industryAve['DisbursementGross'])\n",
    "ax2.set_xticklabels(df_industryAve.index, rotation=30, horizontalalignment='right', fontsize=10)\n",
    "\n",
    "ax2.set_title('Average SBA Loan Disbursement by Industry from 1984-2010', fontsize=15)\n",
    "ax2.set_xlabel('Industry')\n",
    "ax2.set_ylabel('Average Loan Disbursement')\n",
    "\n",
    "plt.show()"
   ]
  },
  {
   "cell_type": "code",
   "execution_count": 51,
   "id": "782942e7",
   "metadata": {},
   "outputs": [
    {
     "name": "stderr",
     "output_type": "stream",
     "text": [
      "<ipython-input-51-f178b86abcf2>:5: UserWarning: FixedFormatter should only be used together with FixedLocator\n",
      "  ax.set_xticklabels(df_industryAve['DaysToDisbursement'].sort_values(ascending=False).index, rotation=35,\n"
     ]
    },
    {
     "data": {
      "image/png": "[encoded data removed]",
      "text/plain": [
       "<Figure size 1080x360 with 1 Axes>"
      ]
     },
     "metadata": {
      "needs_background": "light"
     },
     "output_type": "display_data"
    }
   ],
   "source": [
    "# Average days to disbursement by industry\n",
    "fig2, ax = plt.subplots(figsize=(15, 5))\n",
    "\n",
    "ax.bar(df_industryAve.index, df_industryAve['DaysToDisbursement'].sort_values(ascending=False))\n",
    "ax.set_xticklabels(df_industryAve['DaysToDisbursement'].sort_values(ascending=False).index, rotation=35,\n",
    "                   horizontalalignment='right', fontsize=10)\n",
    "\n",
    "ax.set_title('Average Days to SBA Loan Disbursement by Industry from 1984-2010', fontsize=15)\n",
    "ax.set_xlabel('Industry')\n",
    "ax.set_ylabel('Average Days to Disbursement')\n",
    "\n",
    "plt.show()"
   ]
  },
  {
   "cell_type": "code",
   "execution_count": 52,
   "id": "dc25b657",
   "metadata": {},
   "outputs": [
    {
     "name": "stderr",
     "output_type": "stream",
     "text": [
      "<ipython-input-52-721d35b7f2d3>:20: UserWarning: FixedFormatter should only be used together with FixedLocator\n",
      "  ax1a.set_xticklabels(df_copy.groupby(['Industry', 'Default'])['Industry'].count().unstack('Default').index,\n"
     ]
    },
    {
     "data": {
      "image/png": "[encoded data removed]",
      "text/plain": [
       "<Figure size 1080x720 with 2 Axes>"
      ]
     },
     "metadata": {
      "needs_background": "light"
     },
     "output_type": "display_data"
    }
   ],
   "source": [
    "# Paid in full and defaulted loans\n",
    "fig3 = plt.figure(figsize=(15, 10))\n",
    "\n",
    "ax1a = plt.subplot(2, 1, 1)\n",
    "ax2a = plt.subplot(2, 1, 2)\n",
    "\n",
    "# Function for creating stacked bar charts grouped by desired column\n",
    "# df = original data frame, col = x-axis grouping, stack_col = column to show stacked values\n",
    "# Essentially acts as a stacked histogram when stack_col is a flag variable\n",
    "def stacked_setup(df, col, axes, stack_col='Default'):\n",
    "    data = df.groupby([col, stack_col])[col].count().unstack(stack_col)\n",
    "    data.fillna(0)\n",
    "    \n",
    "    axes.bar(data.index, data[1], label='Default')\n",
    "    axes.bar(data.index, data[0], bottom=data[1], label='Paid in full')\n",
    "\n",
    "\n",
    "# Number of Paid in full and defaulted loans by industry\n",
    "stacked_setup(df=df_copy, col='Industry', axes=ax1a)\n",
    "ax1a.set_xticklabels(df_copy.groupby(['Industry', 'Default'])['Industry'].count().unstack('Default').index,\n",
    "                     rotation=35, horizontalalignment='right', fontsize=10)\n",
    "\n",
    "ax1a.set_title('Number of PIF/Defaulted Loans by Industry from 1984-2010', fontsize=15)\n",
    "ax1a.set_xlabel('Industry')\n",
    "ax1a.set_ylabel('Number of PIF/Defaulted Loans')\n",
    "ax1a.legend()\n",
    "# Number of Paid in full and defaulted loans by State\n",
    "stacked_setup(df=df_copy, col='State', axes=ax2a)\n",
    "\n",
    "ax2a.set_title('Number of PIF/Defaulted Loans by State from 1984-2010', fontsize=15)\n",
    "ax2a.set_xlabel('State')\n",
    "ax2a.set_ylabel('Number of PIF/Defaulted Loans')\n",
    "ax2a.legend()\n",
    "\n",
    "plt.tight_layout()\n",
    "plt.show()"
   ]
  },
  {
   "cell_type": "code",
   "execution_count": 53,
   "id": "436c9cd2",
   "metadata": {},
   "outputs": [
    {
     "data": {
      "text/html": [
       "<div>\n",
       "<style scoped>\n",
       "    .dataframe tbody tr th:only-of-type {\n",
       "        vertical-align: middle;\n",
       "    }\n",
       "\n",
       "    .dataframe tbody tr th {\n",
       "        vertical-align: top;\n",
       "    }\n",
       "\n",
       "    .dataframe thead th {\n",
       "        text-align: right;\n",
       "    }\n",
       "</style>\n",
       "<table border=\"1\" class=\"dataframe\">\n",
       "  <thead>\n",
       "    <tr style=\"text-align: right;\">\n",
       "      <th>Default</th>\n",
       "      <th>0</th>\n",
       "      <th>1</th>\n",
       "      <th>Def_Percent</th>\n",
       "    </tr>\n",
       "    <tr>\n",
       "      <th>Industry</th>\n",
       "      <th></th>\n",
       "      <th></th>\n",
       "      <th></th>\n",
       "    </tr>\n",
       "  </thead>\n",
       "  <tbody>\n",
       "    <tr>\n",
       "      <th>Accom/Food_serv</th>\n",
       "      <td>23936</td>\n",
       "      <td>8381</td>\n",
       "      <td>0.259337</td>\n",
       "    </tr>\n",
       "    <tr>\n",
       "      <th>Admin_sup/Waste_Mgmt_Rem</th>\n",
       "      <td>15774</td>\n",
       "      <td>5427</td>\n",
       "      <td>0.255978</td>\n",
       "    </tr>\n",
       "    <tr>\n",
       "      <th>Ag/For/Fish/Hunt</th>\n",
       "      <td>6536</td>\n",
       "      <td>657</td>\n",
       "      <td>0.091339</td>\n",
       "    </tr>\n",
       "    <tr>\n",
       "      <th>Arts/Entertain/Rec</th>\n",
       "      <td>6976</td>\n",
       "      <td>1917</td>\n",
       "      <td>0.215563</td>\n",
       "    </tr>\n",
       "    <tr>\n",
       "      <th>Construction</th>\n",
       "      <td>34999</td>\n",
       "      <td>12048</td>\n",
       "      <td>0.256084</td>\n",
       "    </tr>\n",
       "    <tr>\n",
       "      <th>Educational</th>\n",
       "      <td>2750</td>\n",
       "      <td>1070</td>\n",
       "      <td>0.280105</td>\n",
       "    </tr>\n",
       "    <tr>\n",
       "      <th>Finance/Insurance</th>\n",
       "      <td>3984</td>\n",
       "      <td>2093</td>\n",
       "      <td>0.344413</td>\n",
       "    </tr>\n",
       "    <tr>\n",
       "      <th>Healthcare/Social_assist</th>\n",
       "      <td>29192</td>\n",
       "      <td>3571</td>\n",
       "      <td>0.108995</td>\n",
       "    </tr>\n",
       "    <tr>\n",
       "      <th>Information</th>\n",
       "      <td>5222</td>\n",
       "      <td>1830</td>\n",
       "      <td>0.259501</td>\n",
       "    </tr>\n",
       "    <tr>\n",
       "      <th>Manufacturing</th>\n",
       "      <td>36448</td>\n",
       "      <td>7281</td>\n",
       "      <td>0.166503</td>\n",
       "    </tr>\n",
       "    <tr>\n",
       "      <th>Mgmt_comp</th>\n",
       "      <td>90</td>\n",
       "      <td>23</td>\n",
       "      <td>0.203540</td>\n",
       "    </tr>\n",
       "    <tr>\n",
       "      <th>Min/Quar/Oil_Gas_ext</th>\n",
       "      <td>1133</td>\n",
       "      <td>117</td>\n",
       "      <td>0.093600</td>\n",
       "    </tr>\n",
       "    <tr>\n",
       "      <th>Other_no_pub</th>\n",
       "      <td>34192</td>\n",
       "      <td>9351</td>\n",
       "      <td>0.214753</td>\n",
       "    </tr>\n",
       "    <tr>\n",
       "      <th>Prof/Science/Tech</th>\n",
       "      <td>37278</td>\n",
       "      <td>9803</td>\n",
       "      <td>0.208216</td>\n",
       "    </tr>\n",
       "    <tr>\n",
       "      <th>Public_Admin</th>\n",
       "      <td>151</td>\n",
       "      <td>29</td>\n",
       "      <td>0.161111</td>\n",
       "    </tr>\n",
       "    <tr>\n",
       "      <th>RE/Rental/Lease</th>\n",
       "      <td>6079</td>\n",
       "      <td>3097</td>\n",
       "      <td>0.337511</td>\n",
       "    </tr>\n",
       "    <tr>\n",
       "      <th>Retail_trade</th>\n",
       "      <td>59503</td>\n",
       "      <td>19051</td>\n",
       "      <td>0.242521</td>\n",
       "    </tr>\n",
       "    <tr>\n",
       "      <th>Trans/Ware</th>\n",
       "      <td>10016</td>\n",
       "      <td>4430</td>\n",
       "      <td>0.306659</td>\n",
       "    </tr>\n",
       "    <tr>\n",
       "      <th>Utilities</th>\n",
       "      <td>334</td>\n",
       "      <td>79</td>\n",
       "      <td>0.191283</td>\n",
       "    </tr>\n",
       "    <tr>\n",
       "      <th>Wholesale_trade</th>\n",
       "      <td>26224</td>\n",
       "      <td>7018</td>\n",
       "      <td>0.211118</td>\n",
       "    </tr>\n",
       "  </tbody>\n",
       "</table>\n",
       "</div>"
      ],
      "text/plain": [
       "Default                       0      1  Def_Percent\n",
       "Industry                                           \n",
       "Accom/Food_serv           23936   8381     0.259337\n",
       "Admin_sup/Waste_Mgmt_Rem  15774   5427     0.255978\n",
       "Ag/For/Fish/Hunt           6536    657     0.091339\n",
       "Arts/Entertain/Rec         6976   1917     0.215563\n",
       "Construction              34999  12048     0.256084\n",
       "Educational                2750   1070     0.280105\n",
       "Finance/Insurance          3984   2093     0.344413\n",
       "Healthcare/Social_assist  29192   3571     0.108995\n",
       "Information                5222   1830     0.259501\n",
       "Manufacturing             36448   7281     0.166503\n",
       "Mgmt_comp                    90     23     0.203540\n",
       "Min/Quar/Oil_Gas_ext       1133    117     0.093600\n",
       "Other_no_pub              34192   9351     0.214753\n",
       "Prof/Science/Tech         37278   9803     0.208216\n",
       "Public_Admin                151     29     0.161111\n",
       "RE/Rental/Lease            6079   3097     0.337511\n",
       "Retail_trade              59503  19051     0.242521\n",
       "Trans/Ware                10016   4430     0.306659\n",
       "Utilities                   334     79     0.191283\n",
       "Wholesale_trade           26224   7018     0.211118"
      ]
     },
     "execution_count": 53,
     "metadata": {},
     "output_type": "execute_result"
    }
   ],
   "source": [
    "# Check Default percentage by Industry\n",
    "def_ind = df_copy.groupby(['Industry', 'Default'])['Industry'].count().unstack('Default')\n",
    "def_ind['Def_Percent'] = def_ind[1]/(def_ind[1] + def_ind[0])\n",
    "def_ind"
   ]
  },
  {
   "cell_type": "code",
   "execution_count": 54,
   "id": "99c2497d",
   "metadata": {},
   "outputs": [
    {
     "data": {
      "text/html": [
       "<div>\n",
       "<style scoped>\n",
       "    .dataframe tbody tr th:only-of-type {\n",
       "        vertical-align: middle;\n",
       "    }\n",
       "\n",
       "    .dataframe tbody tr th {\n",
       "        vertical-align: top;\n",
       "    }\n",
       "\n",
       "    .dataframe thead th {\n",
       "        text-align: right;\n",
       "    }\n",
       "</style>\n",
       "<table border=\"1\" class=\"dataframe\">\n",
       "  <thead>\n",
       "    <tr style=\"text-align: right;\">\n",
       "      <th>Default</th>\n",
       "      <th>0</th>\n",
       "      <th>1</th>\n",
       "      <th>Def_Percent</th>\n",
       "    </tr>\n",
       "    <tr>\n",
       "      <th>State</th>\n",
       "      <th></th>\n",
       "      <th></th>\n",
       "      <th></th>\n",
       "    </tr>\n",
       "  </thead>\n",
       "  <tbody>\n",
       "    <tr>\n",
       "      <th>AK</th>\n",
       "      <td>979</td>\n",
       "      <td>94</td>\n",
       "      <td>0.087605</td>\n",
       "    </tr>\n",
       "    <tr>\n",
       "      <th>AL</th>\n",
       "      <td>3192</td>\n",
       "      <td>805</td>\n",
       "      <td>0.201401</td>\n",
       "    </tr>\n",
       "    <tr>\n",
       "      <th>AR</th>\n",
       "      <td>2414</td>\n",
       "      <td>528</td>\n",
       "      <td>0.179470</td>\n",
       "    </tr>\n",
       "    <tr>\n",
       "      <th>AZ</th>\n",
       "      <td>5119</td>\n",
       "      <td>2473</td>\n",
       "      <td>0.325738</td>\n",
       "    </tr>\n",
       "    <tr>\n",
       "      <th>CA</th>\n",
       "      <td>42983</td>\n",
       "      <td>16138</td>\n",
       "      <td>0.272966</td>\n",
       "    </tr>\n",
       "    <tr>\n",
       "      <th>CO</th>\n",
       "      <td>7439</td>\n",
       "      <td>2349</td>\n",
       "      <td>0.239988</td>\n",
       "    </tr>\n",
       "    <tr>\n",
       "      <th>CT</th>\n",
       "      <td>5328</td>\n",
       "      <td>1064</td>\n",
       "      <td>0.166458</td>\n",
       "    </tr>\n",
       "    <tr>\n",
       "      <th>DC</th>\n",
       "      <td>567</td>\n",
       "      <td>157</td>\n",
       "      <td>0.216851</td>\n",
       "    </tr>\n",
       "    <tr>\n",
       "      <th>DE</th>\n",
       "      <td>841</td>\n",
       "      <td>246</td>\n",
       "      <td>0.226311</td>\n",
       "    </tr>\n",
       "    <tr>\n",
       "      <th>FL</th>\n",
       "      <td>14820</td>\n",
       "      <td>7587</td>\n",
       "      <td>0.338600</td>\n",
       "    </tr>\n",
       "    <tr>\n",
       "      <th>GA</th>\n",
       "      <td>7080</td>\n",
       "      <td>3141</td>\n",
       "      <td>0.307308</td>\n",
       "    </tr>\n",
       "    <tr>\n",
       "      <th>HI</th>\n",
       "      <td>1164</td>\n",
       "      <td>263</td>\n",
       "      <td>0.184303</td>\n",
       "    </tr>\n",
       "    <tr>\n",
       "      <th>IA</th>\n",
       "      <td>4596</td>\n",
       "      <td>568</td>\n",
       "      <td>0.109992</td>\n",
       "    </tr>\n",
       "    <tr>\n",
       "      <th>ID</th>\n",
       "      <td>4046</td>\n",
       "      <td>886</td>\n",
       "      <td>0.179643</td>\n",
       "    </tr>\n",
       "    <tr>\n",
       "      <th>IL</th>\n",
       "      <td>11500</td>\n",
       "      <td>4505</td>\n",
       "      <td>0.281475</td>\n",
       "    </tr>\n",
       "    <tr>\n",
       "      <th>IN</th>\n",
       "      <td>5904</td>\n",
       "      <td>1524</td>\n",
       "      <td>0.205170</td>\n",
       "    </tr>\n",
       "    <tr>\n",
       "      <th>KS</th>\n",
       "      <td>4269</td>\n",
       "      <td>631</td>\n",
       "      <td>0.128776</td>\n",
       "    </tr>\n",
       "    <tr>\n",
       "      <th>KY</th>\n",
       "      <td>2959</td>\n",
       "      <td>789</td>\n",
       "      <td>0.210512</td>\n",
       "    </tr>\n",
       "    <tr>\n",
       "      <th>LA</th>\n",
       "      <td>3228</td>\n",
       "      <td>775</td>\n",
       "      <td>0.193605</td>\n",
       "    </tr>\n",
       "    <tr>\n",
       "      <th>MA</th>\n",
       "      <td>11812</td>\n",
       "      <td>2289</td>\n",
       "      <td>0.162329</td>\n",
       "    </tr>\n",
       "    <tr>\n",
       "      <th>MD</th>\n",
       "      <td>5084</td>\n",
       "      <td>1431</td>\n",
       "      <td>0.219647</td>\n",
       "    </tr>\n",
       "    <tr>\n",
       "      <th>ME</th>\n",
       "      <td>2502</td>\n",
       "      <td>317</td>\n",
       "      <td>0.112451</td>\n",
       "    </tr>\n",
       "    <tr>\n",
       "      <th>MI</th>\n",
       "      <td>7976</td>\n",
       "      <td>3287</td>\n",
       "      <td>0.291841</td>\n",
       "    </tr>\n",
       "    <tr>\n",
       "      <th>MN</th>\n",
       "      <td>9186</td>\n",
       "      <td>1688</td>\n",
       "      <td>0.155233</td>\n",
       "    </tr>\n",
       "    <tr>\n",
       "      <th>MO</th>\n",
       "      <td>7679</td>\n",
       "      <td>1636</td>\n",
       "      <td>0.175631</td>\n",
       "    </tr>\n",
       "    <tr>\n",
       "      <th>MS</th>\n",
       "      <td>3754</td>\n",
       "      <td>677</td>\n",
       "      <td>0.152787</td>\n",
       "    </tr>\n",
       "    <tr>\n",
       "      <th>MT</th>\n",
       "      <td>3533</td>\n",
       "      <td>264</td>\n",
       "      <td>0.069529</td>\n",
       "    </tr>\n",
       "    <tr>\n",
       "      <th>NC</th>\n",
       "      <td>4922</td>\n",
       "      <td>1423</td>\n",
       "      <td>0.224271</td>\n",
       "    </tr>\n",
       "    <tr>\n",
       "      <th>ND</th>\n",
       "      <td>2319</td>\n",
       "      <td>174</td>\n",
       "      <td>0.069795</td>\n",
       "    </tr>\n",
       "    <tr>\n",
       "      <th>NE</th>\n",
       "      <td>2329</td>\n",
       "      <td>285</td>\n",
       "      <td>0.109028</td>\n",
       "    </tr>\n",
       "    <tr>\n",
       "      <th>NH</th>\n",
       "      <td>5966</td>\n",
       "      <td>922</td>\n",
       "      <td>0.133856</td>\n",
       "    </tr>\n",
       "    <tr>\n",
       "      <th>NJ</th>\n",
       "      <td>8217</td>\n",
       "      <td>3241</td>\n",
       "      <td>0.282859</td>\n",
       "    </tr>\n",
       "    <tr>\n",
       "      <th>NM</th>\n",
       "      <td>2408</td>\n",
       "      <td>321</td>\n",
       "      <td>0.117626</td>\n",
       "    </tr>\n",
       "    <tr>\n",
       "      <th>NV</th>\n",
       "      <td>2688</td>\n",
       "      <td>1239</td>\n",
       "      <td>0.315508</td>\n",
       "    </tr>\n",
       "    <tr>\n",
       "      <th>NY</th>\n",
       "      <td>24822</td>\n",
       "      <td>8237</td>\n",
       "      <td>0.249161</td>\n",
       "    </tr>\n",
       "    <tr>\n",
       "      <th>OH</th>\n",
       "      <td>14150</td>\n",
       "      <td>3592</td>\n",
       "      <td>0.202457</td>\n",
       "    </tr>\n",
       "    <tr>\n",
       "      <th>OK</th>\n",
       "      <td>3839</td>\n",
       "      <td>765</td>\n",
       "      <td>0.166160</td>\n",
       "    </tr>\n",
       "    <tr>\n",
       "      <th>OR</th>\n",
       "      <td>4519</td>\n",
       "      <td>1137</td>\n",
       "      <td>0.201025</td>\n",
       "    </tr>\n",
       "    <tr>\n",
       "      <th>PA</th>\n",
       "      <td>14959</td>\n",
       "      <td>3146</td>\n",
       "      <td>0.173764</td>\n",
       "    </tr>\n",
       "    <tr>\n",
       "      <th>RI</th>\n",
       "      <td>4227</td>\n",
       "      <td>730</td>\n",
       "      <td>0.147266</td>\n",
       "    </tr>\n",
       "    <tr>\n",
       "      <th>SC</th>\n",
       "      <td>1925</td>\n",
       "      <td>616</td>\n",
       "      <td>0.242424</td>\n",
       "    </tr>\n",
       "    <tr>\n",
       "      <th>SD</th>\n",
       "      <td>1759</td>\n",
       "      <td>132</td>\n",
       "      <td>0.069804</td>\n",
       "    </tr>\n",
       "    <tr>\n",
       "      <th>TN</th>\n",
       "      <td>3477</td>\n",
       "      <td>1003</td>\n",
       "      <td>0.223884</td>\n",
       "    </tr>\n",
       "    <tr>\n",
       "      <th>TX</th>\n",
       "      <td>22738</td>\n",
       "      <td>6203</td>\n",
       "      <td>0.214333</td>\n",
       "    </tr>\n",
       "    <tr>\n",
       "      <th>UT</th>\n",
       "      <td>8565</td>\n",
       "      <td>2607</td>\n",
       "      <td>0.233351</td>\n",
       "    </tr>\n",
       "    <tr>\n",
       "      <th>VA</th>\n",
       "      <td>4862</td>\n",
       "      <td>1371</td>\n",
       "      <td>0.219958</td>\n",
       "    </tr>\n",
       "    <tr>\n",
       "      <th>VT</th>\n",
       "      <td>2222</td>\n",
       "      <td>199</td>\n",
       "      <td>0.082197</td>\n",
       "    </tr>\n",
       "    <tr>\n",
       "      <th>WA</th>\n",
       "      <td>9015</td>\n",
       "      <td>2074</td>\n",
       "      <td>0.187032</td>\n",
       "    </tr>\n",
       "    <tr>\n",
       "      <th>WI</th>\n",
       "      <td>8591</td>\n",
       "      <td>1463</td>\n",
       "      <td>0.145514</td>\n",
       "    </tr>\n",
       "    <tr>\n",
       "      <th>WV</th>\n",
       "      <td>1188</td>\n",
       "      <td>212</td>\n",
       "      <td>0.151429</td>\n",
       "    </tr>\n",
       "    <tr>\n",
       "      <th>WY</th>\n",
       "      <td>1156</td>\n",
       "      <td>69</td>\n",
       "      <td>0.056327</td>\n",
       "    </tr>\n",
       "  </tbody>\n",
       "</table>\n",
       "</div>"
      ],
      "text/plain": [
       "Default      0      1  Def_Percent\n",
       "State                             \n",
       "AK         979     94     0.087605\n",
       "AL        3192    805     0.201401\n",
       "AR        2414    528     0.179470\n",
       "AZ        5119   2473     0.325738\n",
       "CA       42983  16138     0.272966\n",
       "CO        7439   2349     0.239988\n",
       "CT        5328   1064     0.166458\n",
       "DC         567    157     0.216851\n",
       "DE         841    246     0.226311\n",
       "FL       14820   7587     0.338600\n",
       "GA        7080   3141     0.307308\n",
       "HI        1164    263     0.184303\n",
       "IA        4596    568     0.109992\n",
       "ID        4046    886     0.179643\n",
       "IL       11500   4505     0.281475\n",
       "IN        5904   1524     0.205170\n",
       "KS        4269    631     0.128776\n",
       "KY        2959    789     0.210512\n",
       "LA        3228    775     0.193605\n",
       "MA       11812   2289     0.162329\n",
       "MD        5084   1431     0.219647\n",
       "ME        2502    317     0.112451\n",
       "MI        7976   3287     0.291841\n",
       "MN        9186   1688     0.155233\n",
       "MO        7679   1636     0.175631\n",
       "MS        3754    677     0.152787\n",
       "MT        3533    264     0.069529\n",
       "NC        4922   1423     0.224271\n",
       "ND        2319    174     0.069795\n",
       "NE        2329    285     0.109028\n",
       "NH        5966    922     0.133856\n",
       "NJ        8217   3241     0.282859\n",
       "NM        2408    321     0.117626\n",
       "NV        2688   1239     0.315508\n",
       "NY       24822   8237     0.249161\n",
       "OH       14150   3592     0.202457\n",
       "OK        3839    765     0.166160\n",
       "OR        4519   1137     0.201025\n",
       "PA       14959   3146     0.173764\n",
       "RI        4227    730     0.147266\n",
       "SC        1925    616     0.242424\n",
       "SD        1759    132     0.069804\n",
       "TN        3477   1003     0.223884\n",
       "TX       22738   6203     0.214333\n",
       "UT        8565   2607     0.233351\n",
       "VA        4862   1371     0.219958\n",
       "VT        2222    199     0.082197\n",
       "WA        9015   2074     0.187032\n",
       "WI        8591   1463     0.145514\n",
       "WV        1188    212     0.151429\n",
       "WY        1156     69     0.056327"
      ]
     },
     "execution_count": 54,
     "metadata": {},
     "output_type": "execute_result"
    }
   ],
   "source": [
    "# Check Default percentage by State\n",
    "def_state = df_copy.groupby(['State', 'Default'])['State'].count().unstack('Default')\n",
    "def_state['Def_Percent'] = def_state[1]/(def_state[1] + def_state[0])\n",
    "def_state"
   ]
  },
  {
   "cell_type": "code",
   "execution_count": 55,
   "id": "dadd9433",
   "metadata": {},
   "outputs": [
    {
     "data": {
      "image/png": "[encoded data removed]",
      "text/plain": [
       "<Figure size 1080x360 with 1 Axes>"
      ]
     },
     "metadata": {
      "needs_background": "light"
     },
     "output_type": "display_data"
    }
   ],
   "source": [
    "# Paid in full and Defaulted loans by DisbursementFY\n",
    "# Decided to use a stacked area chart here since it's time series data\n",
    "fig4, ax4 = plt.subplots(figsize=(15, 5))\n",
    "\n",
    "stack_data = df_copy.groupby(['DisbursementFY', 'Default'])['DisbursementFY'].count().unstack('Default')\n",
    "x = stack_data.index\n",
    "y = [stack_data[1], stack_data[0]]\n",
    "\n",
    "ax4.stackplot(x, y, labels=['Default', 'Paid in full'])\n",
    "ax4.set_title('Number of PIF/Defaulted Loans by State from 1984-2010', fontsize=15)\n",
    "ax4.set_xlabel('Disbursement Year')\n",
    "ax4.set_ylabel('Number of PIF/Defaulted Loans')\n",
    "ax4.legend(loc='upper left')\n",
    "\n",
    "plt.show()"
   ]
  },
  {
   "cell_type": "code",
   "execution_count": 56,
   "id": "bcd22c4e",
   "metadata": {},
   "outputs": [
    {
     "data": {
      "image/png": "[encoded data removed]",
      "text/plain": [
       "<Figure size 1440x720 with 2 Axes>"
      ]
     },
     "metadata": {
      "needs_background": "light"
     },
     "output_type": "display_data"
    }
   ],
   "source": [
    "# Paid in full and defaulted loans backed by Real Estate\n",
    "fig5 = plt.figure(figsize=(20, 10))\n",
    "\n",
    "ax1b = fig5.add_subplot(1, 2, 1)\n",
    "ax2b = fig5.add_subplot(1, 2, 2)\n",
    "\n",
    "stacked_setup(df=df_copy, col='RealEstate', axes=ax1b)\n",
    "ax1b.set_xticks(df_copy.groupby(['RealEstate', 'Default'])['RealEstate'].count().unstack('Default').index)\n",
    "ax1b.set_xticklabels(labels=['No', 'Yes'])\n",
    "\n",
    "ax1b.set_title('Number of PIF/Defaulted Loans backed by Real Estate from 1984-2010', fontsize=15)\n",
    "ax1b.set_xlabel('Loan Backed by Real Estate')\n",
    "ax1b.set_ylabel('Number of Loans')\n",
    "ax1b.legend()\n",
    "# Paid in full and defaulted loans active during the Great Recession\n",
    "stacked_setup(df=df_copy, col='GreatRecession', axes=ax2b)\n",
    "ax2b.set_xticks(df_copy.groupby(['GreatRecession', 'Default'])['GreatRecession'].count().unstack('Default').index)\n",
    "ax2b.set_xticklabels(labels=['No', 'Yes'])\n",
    "\n",
    "ax2b.set_title('Number of PIF/Defaulted Loans Active during the Great Recession from 1984-2010', fontsize=15)\n",
    "ax2b.set_xlabel('Loan Active during Great Recession')\n",
    "ax2b.set_ylabel('Number of Loans')\n",
    "ax2b.legend()\n",
    "\n",
    "plt.show()"
   ]
  },
  {
   "cell_type": "code",
   "execution_count": 57,
   "id": "1a700145",
   "metadata": {},
   "outputs": [
    {
     "data": {
      "text/html": [
       "<div>\n",
       "<style scoped>\n",
       "    .dataframe tbody tr th:only-of-type {\n",
       "        vertical-align: middle;\n",
       "    }\n",
       "\n",
       "    .dataframe tbody tr th {\n",
       "        vertical-align: top;\n",
       "    }\n",
       "\n",
       "    .dataframe thead th {\n",
       "        text-align: right;\n",
       "    }\n",
       "</style>\n",
       "<table border=\"1\" class=\"dataframe\">\n",
       "  <thead>\n",
       "    <tr style=\"text-align: right;\">\n",
       "      <th>Default</th>\n",
       "      <th>0</th>\n",
       "      <th>1</th>\n",
       "      <th>Def_Percent</th>\n",
       "    </tr>\n",
       "    <tr>\n",
       "      <th>RealEstate</th>\n",
       "      <th></th>\n",
       "      <th></th>\n",
       "      <th></th>\n",
       "    </tr>\n",
       "  </thead>\n",
       "  <tbody>\n",
       "    <tr>\n",
       "      <th>0</th>\n",
       "      <td>292446</td>\n",
       "      <td>96587</td>\n",
       "      <td>0.248275</td>\n",
       "    </tr>\n",
       "    <tr>\n",
       "      <th>1</th>\n",
       "      <td>48371</td>\n",
       "      <td>686</td>\n",
       "      <td>0.013984</td>\n",
       "    </tr>\n",
       "  </tbody>\n",
       "</table>\n",
       "</div>"
      ],
      "text/plain": [
       "Default          0      1  Def_Percent\n",
       "RealEstate                            \n",
       "0           292446  96587     0.248275\n",
       "1            48371    686     0.013984"
      ]
     },
     "execution_count": 57,
     "metadata": {},
     "output_type": "execute_result"
    }
   ],
   "source": [
    "# Check Default percentage for loans backed by Real Estate\n",
    "def_re = df_copy.groupby(['RealEstate', 'Default'])['RealEstate'].count().unstack('Default')\n",
    "def_re['Def_Percent'] = def_re[1]/(def_re[1] + def_re[0])\n",
    "def_re"
   ]
  },
  {
   "cell_type": "code",
   "execution_count": 58,
   "id": "1fa6b7a0",
   "metadata": {},
   "outputs": [
    {
     "data": {
      "text/html": [
       "<div>\n",
       "<style scoped>\n",
       "    .dataframe tbody tr th:only-of-type {\n",
       "        vertical-align: middle;\n",
       "    }\n",
       "\n",
       "    .dataframe tbody tr th {\n",
       "        vertical-align: top;\n",
       "    }\n",
       "\n",
       "    .dataframe thead th {\n",
       "        text-align: right;\n",
       "    }\n",
       "</style>\n",
       "<table border=\"1\" class=\"dataframe\">\n",
       "  <thead>\n",
       "    <tr style=\"text-align: right;\">\n",
       "      <th>Default</th>\n",
       "      <th>0</th>\n",
       "      <th>1</th>\n",
       "      <th>Def_Percent</th>\n",
       "    </tr>\n",
       "    <tr>\n",
       "      <th>GreatRecession</th>\n",
       "      <th></th>\n",
       "      <th></th>\n",
       "      <th></th>\n",
       "    </tr>\n",
       "  </thead>\n",
       "  <tbody>\n",
       "    <tr>\n",
       "      <th>0</th>\n",
       "      <td>94279</td>\n",
       "      <td>22030</td>\n",
       "      <td>0.189409</td>\n",
       "    </tr>\n",
       "    <tr>\n",
       "      <th>1</th>\n",
       "      <td>246538</td>\n",
       "      <td>75243</td>\n",
       "      <td>0.233833</td>\n",
       "    </tr>\n",
       "  </tbody>\n",
       "</table>\n",
       "</div>"
      ],
      "text/plain": [
       "Default              0      1  Def_Percent\n",
       "GreatRecession                            \n",
       "0                94279  22030     0.189409\n",
       "1               246538  75243     0.233833"
      ]
     },
     "execution_count": 58,
     "metadata": {},
     "output_type": "execute_result"
    }
   ],
   "source": [
    "# Check Default percentage for loans active during the Great Recession\n",
    "def_gr = df_copy.groupby(['GreatRecession', 'Default'])['GreatRecession'].count().unstack('Default')\n",
    "def_gr['Def_Percent'] = def_gr[1]/(def_gr[1] + def_gr[0])\n",
    "def_gr"
   ]
  },
  {
   "cell_type": "code",
   "execution_count": 59,
   "id": "cd9b90b3",
   "metadata": {},
   "outputs": [
    {
     "data": {
      "text/plain": [
       "State                    object\n",
       "BankState                object\n",
       "ApprovalFY                int64\n",
       "Term                      int64\n",
       "NoEmp                     int64\n",
       "CreateJob                 int64\n",
       "RetainedJob               int64\n",
       "UrbanRural               object\n",
       "RevLineCr                 int32\n",
       "LowDoc                    int32\n",
       "DisbursementGross       float64\n",
       "GrAppv                  float64\n",
       "Industry                 object\n",
       "IsFranchise               int64\n",
       "NewBusiness               int64\n",
       "Default                   int32\n",
       "DaysToDisbursement        int64\n",
       "DisbursementFY            int64\n",
       "StateSame                 int32\n",
       "SBA_AppvPct             float64\n",
       "AppvDisbursed             int32\n",
       "RealEstate                int32\n",
       "GreatRecession            int32\n",
       "DisbursedGreaterAppv      int32\n",
       "dtype: object"
      ]
     },
     "execution_count": 59,
     "metadata": {},
     "output_type": "execute_result"
    }
   ],
   "source": [
    "df_copy.dtypes"
   ]
  },
  {
   "cell_type": "code",
   "execution_count": 60,
   "id": "b8f19336",
   "metadata": {},
   "outputs": [
    {
     "name": "stdout",
     "output_type": "stream",
     "text": [
      "<class 'pandas.core.frame.DataFrame'>\n",
      "Int64Index: 438090 entries, 0 to 899161\n",
      "Data columns (total 24 columns):\n",
      " #   Column                Non-Null Count   Dtype  \n",
      "---  ------                --------------   -----  \n",
      " 0   State                 438090 non-null  object \n",
      " 1   BankState             438090 non-null  object \n",
      " 2   ApprovalFY            438090 non-null  int64  \n",
      " 3   Term                  438090 non-null  int64  \n",
      " 4   NoEmp                 438090 non-null  int64  \n",
      " 5   CreateJob             438090 non-null  int64  \n",
      " 6   RetainedJob           438090 non-null  int64  \n",
      " 7   UrbanRural            438090 non-null  object \n",
      " 8   RevLineCr             438090 non-null  int32  \n",
      " 9   LowDoc                438090 non-null  int32  \n",
      " 10  DisbursementGross     438090 non-null  float64\n",
      " 11  GrAppv                438090 non-null  float64\n",
      " 12  Industry              438090 non-null  object \n",
      " 13  IsFranchise           438090 non-null  int64  \n",
      " 14  NewBusiness           438090 non-null  int64  \n",
      " 15  Default               438090 non-null  int32  \n",
      " 16  DaysToDisbursement    438090 non-null  int64  \n",
      " 17  DisbursementFY        438090 non-null  int64  \n",
      " 18  StateSame             438090 non-null  int32  \n",
      " 19  SBA_AppvPct           438090 non-null  float64\n",
      " 20  AppvDisbursed         438090 non-null  int32  \n",
      " 21  RealEstate            438090 non-null  int32  \n",
      " 22  GreatRecession        438090 non-null  int32  \n",
      " 23  DisbursedGreaterAppv  438090 non-null  int32  \n",
      "dtypes: float64(3), int32(8), int64(9), object(4)\n",
      "memory usage: 70.2+ MB\n"
     ]
    }
   ],
   "source": [
    "df_copy.info()"
   ]
  },
  {
   "cell_type": "code",
   "execution_count": 61,
   "id": "80e11c14",
   "metadata": {},
   "outputs": [
    {
     "data": {
      "text/html": [
       "<div>\n",
       "<style scoped>\n",
       "    .dataframe tbody tr th:only-of-type {\n",
       "        vertical-align: middle;\n",
       "    }\n",
       "\n",
       "    .dataframe tbody tr th {\n",
       "        vertical-align: top;\n",
       "    }\n",
       "\n",
       "    .dataframe thead th {\n",
       "        text-align: right;\n",
       "    }\n",
       "</style>\n",
       "<table border=\"1\" class=\"dataframe\">\n",
       "  <thead>\n",
       "    <tr style=\"text-align: right;\">\n",
       "      <th></th>\n",
       "      <th>ApprovalFY</th>\n",
       "      <th>Term</th>\n",
       "      <th>NoEmp</th>\n",
       "      <th>CreateJob</th>\n",
       "      <th>RetainedJob</th>\n",
       "      <th>RevLineCr</th>\n",
       "      <th>LowDoc</th>\n",
       "      <th>DisbursementGross</th>\n",
       "      <th>GrAppv</th>\n",
       "      <th>IsFranchise</th>\n",
       "      <th>...</th>\n",
       "      <th>Industry_Mgmt_comp</th>\n",
       "      <th>Industry_Min/Quar/Oil_Gas_ext</th>\n",
       "      <th>Industry_Other_no_pub</th>\n",
       "      <th>Industry_Prof/Science/Tech</th>\n",
       "      <th>Industry_Public_Admin</th>\n",
       "      <th>Industry_RE/Rental/Lease</th>\n",
       "      <th>Industry_Retail_trade</th>\n",
       "      <th>Industry_Trans/Ware</th>\n",
       "      <th>Industry_Utilities</th>\n",
       "      <th>Industry_Wholesale_trade</th>\n",
       "    </tr>\n",
       "  </thead>\n",
       "  <tbody>\n",
       "    <tr>\n",
       "      <th>0</th>\n",
       "      <td>1997</td>\n",
       "      <td>84</td>\n",
       "      <td>4</td>\n",
       "      <td>0</td>\n",
       "      <td>0</td>\n",
       "      <td>0</td>\n",
       "      <td>1</td>\n",
       "      <td>60000.0</td>\n",
       "      <td>60000.0</td>\n",
       "      <td>0</td>\n",
       "      <td>...</td>\n",
       "      <td>0</td>\n",
       "      <td>0</td>\n",
       "      <td>0</td>\n",
       "      <td>0</td>\n",
       "      <td>0</td>\n",
       "      <td>0</td>\n",
       "      <td>1</td>\n",
       "      <td>0</td>\n",
       "      <td>0</td>\n",
       "      <td>0</td>\n",
       "    </tr>\n",
       "    <tr>\n",
       "      <th>1</th>\n",
       "      <td>1997</td>\n",
       "      <td>60</td>\n",
       "      <td>2</td>\n",
       "      <td>0</td>\n",
       "      <td>0</td>\n",
       "      <td>0</td>\n",
       "      <td>1</td>\n",
       "      <td>40000.0</td>\n",
       "      <td>40000.0</td>\n",
       "      <td>0</td>\n",
       "      <td>...</td>\n",
       "      <td>0</td>\n",
       "      <td>0</td>\n",
       "      <td>0</td>\n",
       "      <td>0</td>\n",
       "      <td>0</td>\n",
       "      <td>0</td>\n",
       "      <td>0</td>\n",
       "      <td>0</td>\n",
       "      <td>0</td>\n",
       "      <td>0</td>\n",
       "    </tr>\n",
       "    <tr>\n",
       "      <th>2</th>\n",
       "      <td>1997</td>\n",
       "      <td>180</td>\n",
       "      <td>7</td>\n",
       "      <td>0</td>\n",
       "      <td>0</td>\n",
       "      <td>0</td>\n",
       "      <td>0</td>\n",
       "      <td>287000.0</td>\n",
       "      <td>287000.0</td>\n",
       "      <td>0</td>\n",
       "      <td>...</td>\n",
       "      <td>0</td>\n",
       "      <td>0</td>\n",
       "      <td>0</td>\n",
       "      <td>0</td>\n",
       "      <td>0</td>\n",
       "      <td>0</td>\n",
       "      <td>0</td>\n",
       "      <td>0</td>\n",
       "      <td>0</td>\n",
       "      <td>0</td>\n",
       "    </tr>\n",
       "    <tr>\n",
       "      <th>5</th>\n",
       "      <td>1997</td>\n",
       "      <td>120</td>\n",
       "      <td>19</td>\n",
       "      <td>0</td>\n",
       "      <td>0</td>\n",
       "      <td>0</td>\n",
       "      <td>0</td>\n",
       "      <td>517000.0</td>\n",
       "      <td>517000.0</td>\n",
       "      <td>0</td>\n",
       "      <td>...</td>\n",
       "      <td>0</td>\n",
       "      <td>0</td>\n",
       "      <td>0</td>\n",
       "      <td>0</td>\n",
       "      <td>0</td>\n",
       "      <td>0</td>\n",
       "      <td>0</td>\n",
       "      <td>0</td>\n",
       "      <td>0</td>\n",
       "      <td>0</td>\n",
       "    </tr>\n",
       "    <tr>\n",
       "      <th>7</th>\n",
       "      <td>1997</td>\n",
       "      <td>84</td>\n",
       "      <td>1</td>\n",
       "      <td>0</td>\n",
       "      <td>0</td>\n",
       "      <td>0</td>\n",
       "      <td>1</td>\n",
       "      <td>45000.0</td>\n",
       "      <td>45000.0</td>\n",
       "      <td>0</td>\n",
       "      <td>...</td>\n",
       "      <td>0</td>\n",
       "      <td>0</td>\n",
       "      <td>1</td>\n",
       "      <td>0</td>\n",
       "      <td>0</td>\n",
       "      <td>0</td>\n",
       "      <td>0</td>\n",
       "      <td>0</td>\n",
       "      <td>0</td>\n",
       "      <td>0</td>\n",
       "    </tr>\n",
       "  </tbody>\n",
       "</table>\n",
       "<p>5 rows × 147 columns</p>\n",
       "</div>"
      ],
      "text/plain": [
       "   ApprovalFY  Term  NoEmp  CreateJob  RetainedJob  RevLineCr  LowDoc  \\\n",
       "0        1997    84      4          0            0          0       1   \n",
       "1        1997    60      2          0            0          0       1   \n",
       "2        1997   180      7          0            0          0       0   \n",
       "5        1997   120     19          0            0          0       0   \n",
       "7        1997    84      1          0            0          0       1   \n",
       "\n",
       "   DisbursementGross    GrAppv  IsFranchise  ...  Industry_Mgmt_comp  \\\n",
       "0            60000.0   60000.0            0  ...                   0   \n",
       "1            40000.0   40000.0            0  ...                   0   \n",
       "2           287000.0  287000.0            0  ...                   0   \n",
       "5           517000.0  517000.0            0  ...                   0   \n",
       "7            45000.0   45000.0            0  ...                   0   \n",
       "\n",
       "   Industry_Min/Quar/Oil_Gas_ext  Industry_Other_no_pub  \\\n",
       "0                              0                      0   \n",
       "1                              0                      0   \n",
       "2                              0                      0   \n",
       "5                              0                      0   \n",
       "7                              0                      1   \n",
       "\n",
       "   Industry_Prof/Science/Tech  Industry_Public_Admin  \\\n",
       "0                           0                      0   \n",
       "1                           0                      0   \n",
       "2                           0                      0   \n",
       "5                           0                      0   \n",
       "7                           0                      0   \n",
       "\n",
       "   Industry_RE/Rental/Lease  Industry_Retail_trade  Industry_Trans/Ware  \\\n",
       "0                         0                      1                    0   \n",
       "1                         0                      0                    0   \n",
       "2                         0                      0                    0   \n",
       "5                         0                      0                    0   \n",
       "7                         0                      0                    0   \n",
       "\n",
       "   Industry_Utilities  Industry_Wholesale_trade  \n",
       "0                   0                         0  \n",
       "1                   0                         0  \n",
       "2                   0                         0  \n",
       "5                   0                         0  \n",
       "7                   0                         0  \n",
       "\n",
       "[5 rows x 147 columns]"
      ]
     },
     "execution_count": 61,
     "metadata": {},
     "output_type": "execute_result"
    }
   ],
   "source": [
    "# One-hot encode categorical data\n",
    "df_copy = pd.get_dummies(df_copy)\n",
    "\n",
    "df_copy.head()"
   ]
  },
  {
   "cell_type": "code",
   "execution_count": 62,
   "id": "0d0e5eaf",
   "metadata": {},
   "outputs": [],
   "source": [
    "# Establish target and feature fields\n",
    "y = df_copy['Default']\n",
    "x = df_copy.drop('Default', axis=1)\n",
    "\n",
    "# Scale the feature values prior to modeling\n",
    "scale = StandardScaler()\n",
    "x_scaled = scale.fit_transform(x)\n",
    "\n",
    "x_train, x_test, y_train, y_test = train_test_split(x_scaled, y, test_size=0.25)\n"
   ]
  },
  {
   "cell_type": "code",
   "execution_count": 63,
   "id": "df27f455",
   "metadata": {},
   "outputs": [
    {
     "data": {
      "text/plain": [
       "array([[-1.03141511e+00, -1.47540273e-01, -1.00435454e-01,\n",
       "        -1.11706064e-01, -2.97904342e-01, -8.49429706e-01,\n",
       "         4.06027470e+00, -4.22716694e-01, -3.70951924e-01,\n",
       "        -1.77698387e-01,  1.67044738e+00,  3.40778199e+00,\n",
       "        -6.85582166e-01, -9.11855215e-01,  8.11190367e-01,\n",
       "         7.55949621e-01, -3.55105396e-01, -1.66331130e+00,\n",
       "        -6.77557449e-01, -4.95508028e-02, -9.59567837e-02,\n",
       "        -8.22248024e-02, -1.32798305e-01, -3.94974486e-01,\n",
       "        -1.51172199e-01, -1.21682568e-01, -4.06861667e-02,\n",
       "        -4.98738119e-02, -2.32172472e-01, -1.54557927e-01,\n",
       "        -5.71661296e-02, -1.09216004e-01, -1.06705883e-01,\n",
       "        -1.94727765e-01,  7.61434112e+00, -1.06355225e-01,\n",
       "        -9.28931901e-02, -9.60294420e-02, -1.82367591e-01,\n",
       "        -1.22865250e-01, -8.04762389e-02, -1.62443037e-01,\n",
       "        -1.59540486e-01, -1.47392947e-01, -1.01082667e-01,\n",
       "        -9.35037188e-02, -1.21227781e-01, -7.56517013e-02,\n",
       "        -7.74766223e-02, -1.26388100e-01, -1.63880657e-01,\n",
       "        -7.91729828e-02, -9.51051524e-02, -2.85693740e-01,\n",
       "        -2.05445576e-01, -1.03057623e-01, -1.14365434e-01,\n",
       "        -2.07626305e-01, -1.06979071e-01, -7.63807330e-02,\n",
       "        -6.58420632e-02, -1.01645782e-01, -2.65959813e-01,\n",
       "        -1.61768229e-01, -1.20137498e-01, -7.45450938e-02,\n",
       "        -1.61150533e-01, -1.53260166e-01, -5.66209816e-02,\n",
       "        -5.29534693e-02, -3.72489260e-02, -1.16285956e-01,\n",
       "        -8.56447286e-02, -4.95739440e-02, -3.30608595e-01,\n",
       "        -8.61570923e-02, -9.32425363e-02, -4.58492339e-02,\n",
       "        -1.82233918e-01, -1.21004639e-01, -1.13759615e-01,\n",
       "        -1.51084122e-03, -5.15256005e-02, -9.74239069e-02,\n",
       "        -6.65897385e-02, -3.15937866e-01, -8.79539051e-02,\n",
       "        -9.00899522e-02, -6.40342115e-02, -6.63472182e-02,\n",
       "        -1.22193500e-01, -8.25337508e-02, -5.97029456e-02,\n",
       "        -8.09346898e-02, -1.31385073e-01, -1.19313623e-01,\n",
       "        -8.42270007e-02, -8.75709388e-02, -3.81375313e-01,\n",
       "        -7.44986364e-02, -6.83985568e-02, -8.29253381e-02,\n",
       "        -8.20558080e-02, -6.54211055e-02, -6.39442992e-02,\n",
       "        -2.21264732e-01,  3.49647801e+00, -8.40343784e-02,\n",
       "        -1.05429446e-01, -1.29721211e-01, -1.12053890e-02,\n",
       "        -2.87344887e-01, -6.68658464e-02, -2.37185660e-01,\n",
       "        -7.37983440e-02, -1.86050222e-01, -1.60508258e-01,\n",
       "        -2.13788706e-01, -6.62082434e-02, -9.42953960e-02,\n",
       "        -1.28340725e-01, -4.26379493e-02, -4.59989771e-02,\n",
       "         1.74525056e+00, -1.26898996e+00, -3.96625629e-01,\n",
       "        -2.82211006e-01, -2.25511116e-01, -1.29201720e-01,\n",
       "        -1.43944743e-01, -3.46859593e-01, -9.37889701e-02,\n",
       "        -1.18603146e-01, -2.84307989e-01, -1.27908196e-01,\n",
       "        -3.32995062e-01, -1.60625159e-02, -5.34926123e-02,\n",
       "        -3.32207782e-01, -3.46999990e-01, -2.02742044e-02,\n",
       "        -1.46265396e-01,  2.13937560e+00, -1.84660189e-01,\n",
       "        -3.07183697e-02, -2.86548127e-01],\n",
       "       [-1.03141511e+00, -4.97674194e-01, -1.35098095e-01,\n",
       "        -1.11706064e-01, -2.97904342e-01, -8.49429706e-01,\n",
       "         4.06027470e+00, -5.02236859e-01, -4.54405872e-01,\n",
       "        -1.77698387e-01,  1.67044738e+00, -9.45315482e-02,\n",
       "        -1.05584048e+00,  1.09666533e+00,  8.11190367e-01,\n",
       "         7.55949621e-01, -3.55105396e-01, -1.66331130e+00,\n",
       "        -6.77557449e-01, -4.95508028e-02, -9.59567837e-02,\n",
       "        -8.22248024e-02, -1.32798305e-01, -3.94974486e-01,\n",
       "        -1.51172199e-01, -1.21682568e-01, -4.06861667e-02,\n",
       "        -4.98738119e-02, -2.32172472e-01, -1.54557927e-01,\n",
       "        -5.71661296e-02, -1.09216004e-01, -1.06705883e-01,\n",
       "        -1.94727765e-01,  7.61434112e+00, -1.06355225e-01,\n",
       "        -9.28931901e-02, -9.60294420e-02, -1.82367591e-01,\n",
       "        -1.22865250e-01, -8.04762389e-02, -1.62443037e-01,\n",
       "        -1.59540486e-01, -1.47392947e-01, -1.01082667e-01,\n",
       "        -9.35037188e-02, -1.21227781e-01, -7.56517013e-02,\n",
       "        -7.74766223e-02, -1.26388100e-01, -1.63880657e-01,\n",
       "        -7.91729828e-02, -9.51051524e-02, -2.85693740e-01,\n",
       "        -2.05445576e-01, -1.03057623e-01, -1.14365434e-01,\n",
       "        -2.07626305e-01, -1.06979071e-01, -7.63807330e-02,\n",
       "        -6.58420632e-02, -1.01645782e-01, -2.65959813e-01,\n",
       "        -1.61768229e-01, -1.20137498e-01, -7.45450938e-02,\n",
       "        -1.61150533e-01, -1.53260166e-01, -5.66209816e-02,\n",
       "        -5.29534693e-02, -3.72489260e-02, -1.16285956e-01,\n",
       "        -8.56447286e-02, -4.95739440e-02, -3.30608595e-01,\n",
       "        -8.61570923e-02, -9.32425363e-02, -4.58492339e-02,\n",
       "        -1.82233918e-01, -1.21004639e-01, -1.13759615e-01,\n",
       "        -1.51084122e-03, -5.15256005e-02, -9.74239069e-02,\n",
       "        -6.65897385e-02, -3.15937866e-01,  1.13695918e+01,\n",
       "        -9.00899522e-02, -6.40342115e-02, -6.63472182e-02,\n",
       "        -1.22193500e-01, -8.25337508e-02, -5.97029456e-02,\n",
       "        -8.09346898e-02, -1.31385073e-01, -1.19313623e-01,\n",
       "        -8.42270007e-02, -8.75709388e-02, -3.81375313e-01,\n",
       "        -7.44986364e-02, -6.83985568e-02, -8.29253381e-02,\n",
       "        -8.20558080e-02, -6.54211055e-02, -6.39442992e-02,\n",
       "        -2.21264732e-01, -2.86002085e-01, -8.40343784e-02,\n",
       "        -1.05429446e-01, -1.29721211e-01, -1.12053890e-02,\n",
       "        -2.87344887e-01, -6.68658464e-02, -2.37185660e-01,\n",
       "        -7.37983440e-02, -1.86050222e-01, -1.60508258e-01,\n",
       "        -2.13788706e-01, -6.62082434e-02, -9.42953960e-02,\n",
       "        -1.28340725e-01, -4.26379493e-02, -4.59989771e-02,\n",
       "         1.74525056e+00, -1.26898996e+00, -3.96625629e-01,\n",
       "         3.54344792e+00, -2.25511116e-01, -1.29201720e-01,\n",
       "        -1.43944743e-01, -3.46859593e-01, -9.37889701e-02,\n",
       "        -1.18603146e-01, -2.84307989e-01, -1.27908196e-01,\n",
       "        -3.32995062e-01, -1.60625159e-02, -5.34926123e-02,\n",
       "        -3.32207782e-01, -3.46999990e-01, -2.02742044e-02,\n",
       "        -1.46265396e-01, -4.67426102e-01, -1.84660189e-01,\n",
       "        -3.07183697e-02, -2.86548127e-01],\n",
       "       [-1.03141511e+00,  1.25299541e+00, -4.84414933e-02,\n",
       "        -1.11706064e-01, -2.97904342e-01, -8.49429706e-01,\n",
       "        -2.46288755e-01,  4.79837176e-01,  5.76250386e-01,\n",
       "        -1.77698387e-01, -5.98642024e-01,  1.08022566e+00,\n",
       "        -1.05584048e+00,  1.09666533e+00,  5.33315655e-01,\n",
       "         7.55949621e-01, -3.55105396e-01,  6.01210369e-01,\n",
       "        -6.77557449e-01, -4.95508028e-02, -9.59567837e-02,\n",
       "        -8.22248024e-02, -1.32798305e-01, -3.94974486e-01,\n",
       "        -1.51172199e-01, -1.21682568e-01, -4.06861667e-02,\n",
       "        -4.98738119e-02, -2.32172472e-01, -1.54557927e-01,\n",
       "        -5.71661296e-02, -1.09216004e-01, -1.06705883e-01,\n",
       "        -1.94727765e-01,  7.61434112e+00, -1.06355225e-01,\n",
       "        -9.28931901e-02, -9.60294420e-02, -1.82367591e-01,\n",
       "        -1.22865250e-01, -8.04762389e-02, -1.62443037e-01,\n",
       "        -1.59540486e-01, -1.47392947e-01, -1.01082667e-01,\n",
       "        -9.35037188e-02, -1.21227781e-01, -7.56517013e-02,\n",
       "        -7.74766223e-02, -1.26388100e-01, -1.63880657e-01,\n",
       "        -7.91729828e-02, -9.51051524e-02, -2.85693740e-01,\n",
       "        -2.05445576e-01, -1.03057623e-01, -1.14365434e-01,\n",
       "        -2.07626305e-01, -1.06979071e-01, -7.63807330e-02,\n",
       "        -6.58420632e-02, -1.01645782e-01, -2.65959813e-01,\n",
       "        -1.61768229e-01, -1.20137498e-01, -7.45450938e-02,\n",
       "        -1.61150533e-01, -1.53260166e-01, -5.66209816e-02,\n",
       "        -5.29534693e-02, -3.72489260e-02, -1.16285956e-01,\n",
       "        -8.56447286e-02, -4.95739440e-02, -3.30608595e-01,\n",
       "        -8.61570923e-02, -9.32425363e-02, -4.58492339e-02,\n",
       "        -1.82233918e-01, -1.21004639e-01, -1.13759615e-01,\n",
       "        -1.51084122e-03, -5.15256005e-02, -9.74239069e-02,\n",
       "        -6.65897385e-02, -3.15937866e-01,  1.13695918e+01,\n",
       "        -9.00899522e-02, -6.40342115e-02, -6.63472182e-02,\n",
       "        -1.22193500e-01, -8.25337508e-02, -5.97029456e-02,\n",
       "        -8.09346898e-02, -1.31385073e-01, -1.19313623e-01,\n",
       "        -8.42270007e-02, -8.75709388e-02, -3.81375313e-01,\n",
       "        -7.44986364e-02, -6.83985568e-02, -8.29253381e-02,\n",
       "        -8.20558080e-02, -6.54211055e-02, -6.39442992e-02,\n",
       "        -2.21264732e-01, -2.86002085e-01, -8.40343784e-02,\n",
       "        -1.05429446e-01, -1.29721211e-01, -1.12053890e-02,\n",
       "        -2.87344887e-01, -6.68658464e-02, -2.37185660e-01,\n",
       "        -7.37983440e-02, -1.86050222e-01, -1.60508258e-01,\n",
       "        -2.13788706e-01, -6.62082434e-02, -9.42953960e-02,\n",
       "        -1.28340725e-01, -4.26379493e-02, -4.59989771e-02,\n",
       "         1.74525056e+00, -1.26898996e+00, -3.96625629e-01,\n",
       "        -2.82211006e-01, -2.25511116e-01, -1.29201720e-01,\n",
       "        -1.43944743e-01, -3.46859593e-01, -9.37889701e-02,\n",
       "        -1.18603146e-01,  3.51731234e+00, -1.27908196e-01,\n",
       "        -3.32995062e-01, -1.60625159e-02, -5.34926123e-02,\n",
       "        -3.32207782e-01, -3.46999990e-01, -2.02742044e-02,\n",
       "        -1.46265396e-01, -4.67426102e-01, -1.84660189e-01,\n",
       "        -3.07183697e-02, -2.86548127e-01],\n",
       "       [-1.03141511e+00,  3.77660609e-01,  1.59534351e-01,\n",
       "        -1.11706064e-01, -2.97904342e-01, -8.49429706e-01,\n",
       "        -2.46288755e-01,  1.39431907e+00,  1.53597079e+00,\n",
       "        -1.77698387e-01, -5.98642024e-01,  7.01540411e-02,\n",
       "        -1.05584048e+00, -9.11855215e-01,  5.33315655e-01,\n",
       "         7.55949621e-01, -3.55105396e-01,  6.01210369e-01,\n",
       "        -6.77557449e-01, -4.95508028e-02, -9.59567837e-02,\n",
       "        -8.22248024e-02, -1.32798305e-01, -3.94974486e-01,\n",
       "        -1.51172199e-01,  8.21810404e+00, -4.06861667e-02,\n",
       "        -4.98738119e-02, -2.32172472e-01, -1.54557927e-01,\n",
       "        -5.71661296e-02, -1.09216004e-01, -1.06705883e-01,\n",
       "        -1.94727765e-01, -1.31331127e-01, -1.06355225e-01,\n",
       "        -9.28931901e-02, -9.60294420e-02, -1.82367591e-01,\n",
       "        -1.22865250e-01, -8.04762389e-02, -1.62443037e-01,\n",
       "        -1.59540486e-01, -1.47392947e-01, -1.01082667e-01,\n",
       "        -9.35037188e-02, -1.21227781e-01, -7.56517013e-02,\n",
       "        -7.74766223e-02, -1.26388100e-01, -1.63880657e-01,\n",
       "        -7.91729828e-02, -9.51051524e-02, -2.85693740e-01,\n",
       "        -2.05445576e-01, -1.03057623e-01, -1.14365434e-01,\n",
       "        -2.07626305e-01, -1.06979071e-01, -7.63807330e-02,\n",
       "        -6.58420632e-02, -1.01645782e-01, -2.65959813e-01,\n",
       "        -1.61768229e-01, -1.20137498e-01, -7.45450938e-02,\n",
       "        -1.61150533e-01, -1.53260166e-01, -5.66209816e-02,\n",
       "        -5.29534693e-02, -3.72489260e-02, -1.16285956e-01,\n",
       "        -8.56447286e-02, -4.95739440e-02, -3.30608595e-01,\n",
       "        -8.61570923e-02, -9.32425363e-02, -4.58492339e-02,\n",
       "         5.48745268e+00, -1.21004639e-01, -1.13759615e-01,\n",
       "        -1.51084122e-03, -5.15256005e-02, -9.74239069e-02,\n",
       "        -6.65897385e-02, -3.15937866e-01, -8.79539051e-02,\n",
       "        -9.00899522e-02, -6.40342115e-02, -6.63472182e-02,\n",
       "        -1.22193500e-01, -8.25337508e-02, -5.97029456e-02,\n",
       "        -8.09346898e-02, -1.31385073e-01, -1.19313623e-01,\n",
       "        -8.42270007e-02, -8.75709388e-02, -3.81375313e-01,\n",
       "        -7.44986364e-02, -6.83985568e-02, -8.29253381e-02,\n",
       "        -8.20558080e-02, -6.54211055e-02, -6.39442992e-02,\n",
       "        -2.21264732e-01, -2.86002085e-01, -8.40343784e-02,\n",
       "        -1.05429446e-01, -1.29721211e-01, -1.12053890e-02,\n",
       "        -2.87344887e-01, -6.68658464e-02, -2.37185660e-01,\n",
       "        -7.37983440e-02, -1.86050222e-01, -1.60508258e-01,\n",
       "        -2.13788706e-01, -6.62082434e-02, -9.42953960e-02,\n",
       "        -1.28340725e-01, -4.26379493e-02, -4.59989771e-02,\n",
       "         1.74525056e+00, -1.26898996e+00, -3.96625629e-01,\n",
       "        -2.82211006e-01, -2.25511116e-01, -1.29201720e-01,\n",
       "        -1.43944743e-01, -3.46859593e-01, -9.37889701e-02,\n",
       "        -1.18603146e-01, -2.84307989e-01, -1.27908196e-01,\n",
       "         3.00304753e+00, -1.60625159e-02, -5.34926123e-02,\n",
       "        -3.32207782e-01, -3.46999990e-01, -2.02742044e-02,\n",
       "        -1.46265396e-01, -4.67426102e-01, -1.84660189e-01,\n",
       "        -3.07183697e-02, -2.86548127e-01],\n",
       "       [-1.03141511e+00, -1.47540273e-01, -1.52429415e-01,\n",
       "        -1.11706064e-01, -2.97904342e-01, -8.49429706e-01,\n",
       "         4.06027470e+00, -4.82356818e-01, -4.33542385e-01,\n",
       "        -1.77698387e-01,  1.67044738e+00,  2.07382871e+00,\n",
       "        -8.70711321e-01, -9.11855215e-01,  8.11190367e-01,\n",
       "         7.55949621e-01, -3.55105396e-01, -1.66331130e+00,\n",
       "        -6.77557449e-01, -4.95508028e-02, -9.59567837e-02,\n",
       "        -8.22248024e-02, -1.32798305e-01, -3.94974486e-01,\n",
       "        -1.51172199e-01, -1.21682568e-01, -4.06861667e-02,\n",
       "        -4.98738119e-02,  4.30714284e+00, -1.54557927e-01,\n",
       "        -5.71661296e-02, -1.09216004e-01, -1.06705883e-01,\n",
       "        -1.94727765e-01, -1.31331127e-01, -1.06355225e-01,\n",
       "        -9.28931901e-02, -9.60294420e-02, -1.82367591e-01,\n",
       "        -1.22865250e-01, -8.04762389e-02, -1.62443037e-01,\n",
       "        -1.59540486e-01, -1.47392947e-01, -1.01082667e-01,\n",
       "        -9.35037188e-02, -1.21227781e-01, -7.56517013e-02,\n",
       "        -7.74766223e-02, -1.26388100e-01, -1.63880657e-01,\n",
       "        -7.91729828e-02, -9.51051524e-02, -2.85693740e-01,\n",
       "        -2.05445576e-01, -1.03057623e-01, -1.14365434e-01,\n",
       "        -2.07626305e-01, -1.06979071e-01, -7.63807330e-02,\n",
       "        -6.58420632e-02, -1.01645782e-01, -2.65959813e-01,\n",
       "        -1.61768229e-01, -1.20137498e-01, -7.45450938e-02,\n",
       "        -1.61150533e-01, -1.53260166e-01, -5.66209816e-02,\n",
       "        -5.29534693e-02, -3.72489260e-02,  8.59949070e+00,\n",
       "        -8.56447286e-02, -4.95739440e-02, -3.30608595e-01,\n",
       "        -8.61570923e-02, -9.32425363e-02, -4.58492339e-02,\n",
       "        -1.82233918e-01, -1.21004639e-01, -1.13759615e-01,\n",
       "        -1.51084122e-03, -5.15256005e-02, -9.74239069e-02,\n",
       "        -6.65897385e-02, -3.15937866e-01, -8.79539051e-02,\n",
       "        -9.00899522e-02, -6.40342115e-02, -6.63472182e-02,\n",
       "        -1.22193500e-01, -8.25337508e-02, -5.97029456e-02,\n",
       "        -8.09346898e-02, -1.31385073e-01, -1.19313623e-01,\n",
       "        -8.42270007e-02, -8.75709388e-02, -3.81375313e-01,\n",
       "        -7.44986364e-02, -6.83985568e-02, -8.29253381e-02,\n",
       "        -8.20558080e-02, -6.54211055e-02, -6.39442992e-02,\n",
       "        -2.21264732e-01, -2.86002085e-01, -8.40343784e-02,\n",
       "        -1.05429446e-01, -1.29721211e-01, -1.12053890e-02,\n",
       "        -2.87344887e-01, -6.68658464e-02, -2.37185660e-01,\n",
       "        -7.37983440e-02, -1.86050222e-01, -1.60508258e-01,\n",
       "        -2.13788706e-01, -6.62082434e-02, -9.42953960e-02,\n",
       "        -1.28340725e-01, -4.26379493e-02, -4.59989771e-02,\n",
       "         1.74525056e+00, -1.26898996e+00, -3.96625629e-01,\n",
       "        -2.82211006e-01, -2.25511116e-01, -1.29201720e-01,\n",
       "        -1.43944743e-01, -3.46859593e-01, -9.37889701e-02,\n",
       "        -1.18603146e-01, -2.84307989e-01, -1.27908196e-01,\n",
       "        -3.32995062e-01, -1.60625159e-02, -5.34926123e-02,\n",
       "         3.01016429e+00, -3.46999990e-01, -2.02742044e-02,\n",
       "        -1.46265396e-01, -4.67426102e-01, -1.84660189e-01,\n",
       "        -3.07183697e-02, -2.86548127e-01]])"
      ]
     },
     "execution_count": 63,
     "metadata": {},
     "output_type": "execute_result"
    }
   ],
   "source": [
    "# we normalise the dataset\n",
    "from sklearn import preprocessing\n",
    "x = preprocessing.StandardScaler().fit(x).transform(x)\n",
    "x[0:5]"
   ]
  },
  {
   "cell_type": "markdown",
   "id": "d6cfb9fb",
   "metadata": {},
   "source": [
    "# Logistic Regression"
   ]
  },
  {
   "cell_type": "code",
   "execution_count": 64,
   "id": "d8feeefd",
   "metadata": {},
   "outputs": [
    {
     "name": "stdout",
     "output_type": "stream",
     "text": [
      "              precision    recall  f1-score   support\n",
      "\n",
      "           0      0.895     0.953     0.923     85139\n",
      "           1      0.786     0.608     0.686     24384\n",
      "\n",
      "    accuracy                          0.876    109523\n",
      "   macro avg      0.840     0.780     0.804    109523\n",
      "weighted avg      0.871     0.876     0.870    109523\n",
      "\n"
     ]
    }
   ],
   "source": [
    "# Initialize model\n",
    "log_reg = LogisticRegression(penalty='l1',solver=\"liblinear\",random_state=2)\n",
    "\n",
    "# Train the model and make predictions\n",
    "log_reg.fit(x_train, y_train)\n",
    "y_pred= log_reg.predict(x_test)\n",
    "\n",
    "# Print the results\n",
    "print(classification_report(y_test, y_pred, digits=3))"
   ]
  },
  {
   "cell_type": "markdown",
   "id": "844ecf18",
   "metadata": {},
   "source": [
    "# Dercision Tree ------------------------"
   ]
  },
  {
   "cell_type": "code",
   "execution_count": 55,
   "id": "7749e41a",
   "metadata": {},
   "outputs": [
    {
     "data": {
      "text/plain": [
       "DecisionTreeClassifier(criterion='entropy', random_state=0)"
      ]
     },
     "execution_count": 55,
     "metadata": {},
     "output_type": "execute_result"
    }
   ],
   "source": [
    "from sklearn.tree import DecisionTreeClassifier\n",
    "classifier1= DecisionTreeClassifier(criterion=\"entropy\",random_state=0)\n",
    "classifier1.fit(x_train,y_train)"
   ]
  },
  {
   "cell_type": "code",
   "execution_count": 56,
   "id": "99435571",
   "metadata": {},
   "outputs": [],
   "source": [
    "y_pred2= classifier1.predict(x_test)\n",
    "#np.set_printoptions(precision=2)#TWO DIGIT AFTER DECIMAL\n",
    "#print(np.concatenate((y_pred.reshape(len(y_pred),1),y_test.reshape(len(y_test),1)),axis=1))"
   ]
  },
  {
   "cell_type": "code",
   "execution_count": 57,
   "id": "53ceb5b4",
   "metadata": {},
   "outputs": [
    {
     "data": {
      "text/plain": [
       "array([[81309,  3694],\n",
       "       [ 3823, 20697]], dtype=int64)"
      ]
     },
     "execution_count": 57,
     "metadata": {},
     "output_type": "execute_result"
    }
   ],
   "source": [
    "from sklearn.metrics import confusion_matrix, accuracy_score\n",
    "confusion_matrix(y_test,y_pred2)"
   ]
  },
  {
   "cell_type": "code",
   "execution_count": 58,
   "id": "bc97dbae",
   "metadata": {},
   "outputs": [
    {
     "data": {
      "text/plain": [
       "0.9313660144444545"
      ]
     },
     "execution_count": 58,
     "metadata": {},
     "output_type": "execute_result"
    }
   ],
   "source": [
    "accuracy_score(y_test,y_pred2)"
   ]
  },
  {
   "cell_type": "code",
   "execution_count": 59,
   "id": "791c8e3b",
   "metadata": {},
   "outputs": [
    {
     "name": "stdout",
     "output_type": "stream",
     "text": [
      "              precision    recall  f1-score   support\n",
      "\n",
      "           0       0.96      0.96      0.96     85003\n",
      "           1       0.85      0.84      0.85     24520\n",
      "\n",
      "    accuracy                           0.93    109523\n",
      "   macro avg       0.90      0.90      0.90    109523\n",
      "weighted avg       0.93      0.93      0.93    109523\n",
      "\n"
     ]
    }
   ],
   "source": [
    "from sklearn.metrics import classification_report\n",
    "print(classification_report(y_test,y_pred2))"
   ]
  },
  {
   "cell_type": "markdown",
   "id": "c9bc0e13",
   "metadata": {},
   "source": [
    "# --K-NN---"
   ]
  },
  {
   "cell_type": "code",
   "execution_count": 65,
   "id": "e86b1e2c",
   "metadata": {},
   "outputs": [
    {
     "data": {
      "text/plain": [
       "KNeighborsClassifier()"
      ]
     },
     "execution_count": 65,
     "metadata": {},
     "output_type": "execute_result"
    }
   ],
   "source": [
    "from sklearn.neighbors import KNeighborsClassifier\n",
    "classifier2= KNeighborsClassifier()\n",
    "classifier2.fit(x_train,y_train)"
   ]
  },
  {
   "cell_type": "code",
   "execution_count": 69,
   "id": "89f98797",
   "metadata": {},
   "outputs": [],
   "source": [
    "y_pred3= classifier2.predict(x_test)\n",
    "#np.set_printoptions(precision=2)#TWO DIGIT AFTER DECIMAL\n",
    "#print(np.concatenate((y_pred.reshape(len(y_pred),1),y_test.reshape(len(y_test),1)),axis=1))"
   ]
  },
  {
   "cell_type": "code",
   "execution_count": 70,
   "id": "c66567f1",
   "metadata": {},
   "outputs": [
    {
     "data": {
      "text/plain": [
       "array([[79974,  5029],\n",
       "       [10437, 14083]], dtype=int64)"
      ]
     },
     "execution_count": 70,
     "metadata": {},
     "output_type": "execute_result"
    }
   ],
   "source": [
    "from sklearn.metrics import confusion_matrix, accuracy_score\n",
    "confusion_matrix(y_test,y_pred3)"
   ]
  },
  {
   "cell_type": "code",
   "execution_count": 71,
   "id": "e25c0151",
   "metadata": {},
   "outputs": [
    {
     "data": {
      "text/plain": [
       "0.8587876519087315"
      ]
     },
     "execution_count": 71,
     "metadata": {},
     "output_type": "execute_result"
    }
   ],
   "source": [
    "accuracy_score(y_test,y_pred3)"
   ]
  },
  {
   "cell_type": "code",
   "execution_count": 72,
   "id": "153a8325",
   "metadata": {},
   "outputs": [
    {
     "name": "stdout",
     "output_type": "stream",
     "text": [
      "              precision    recall  f1-score   support\n",
      "\n",
      "           0       0.88      0.94      0.91     85003\n",
      "           1       0.74      0.57      0.65     24520\n",
      "\n",
      "    accuracy                           0.86    109523\n",
      "   macro avg       0.81      0.76      0.78    109523\n",
      "weighted avg       0.85      0.86      0.85    109523\n",
      "\n"
     ]
    }
   ],
   "source": [
    "from sklearn.metrics import classification_report\n",
    "print(classification_report(y_test,y_pred3))"
   ]
  },
  {
   "cell_type": "markdown",
   "id": "bb360b82",
   "metadata": {},
   "source": [
    "# ----naive bayes------"
   ]
  },
  {
   "cell_type": "code",
   "execution_count": 61,
   "id": "64d95567",
   "metadata": {},
   "outputs": [
    {
     "data": {
      "text/plain": [
       "GaussianNB()"
      ]
     },
     "execution_count": 61,
     "metadata": {},
     "output_type": "execute_result"
    }
   ],
   "source": [
    "from sklearn.naive_bayes import GaussianNB\n",
    "classifier3= GaussianNB()\n",
    "classifier3.fit(x_train,y_train)"
   ]
  },
  {
   "cell_type": "code",
   "execution_count": 62,
   "id": "2b35605d",
   "metadata": {},
   "outputs": [],
   "source": [
    "y_pred4= classifier3.predict(x_test)\n",
    "#np.set_printoptions(precision=2)#TWO DIGIT AFTER DECIMAL\n",
    "#print(np.concatenate((y_pred.reshape(len(y_pred),1),y_test.reshape(len(y_test),1)),axis=1))"
   ]
  },
  {
   "cell_type": "code",
   "execution_count": 63,
   "id": "71ece056",
   "metadata": {},
   "outputs": [
    {
     "data": {
      "text/plain": [
       "array([[37484, 47710],\n",
       "       [ 3012, 21317]], dtype=int64)"
      ]
     },
     "execution_count": 63,
     "metadata": {},
     "output_type": "execute_result"
    }
   ],
   "source": [
    "from sklearn.metrics import confusion_matrix, accuracy_score\n",
    "confusion_matrix(y_test,y_pred4)"
   ]
  },
  {
   "cell_type": "code",
   "execution_count": 64,
   "id": "92877999",
   "metadata": {},
   "outputs": [
    {
     "data": {
      "text/plain": [
       "0.536882663915342"
      ]
     },
     "execution_count": 64,
     "metadata": {},
     "output_type": "execute_result"
    }
   ],
   "source": [
    "accuracy_score(y_test,y_pred4)"
   ]
  },
  {
   "cell_type": "code",
   "execution_count": 65,
   "id": "8417afb9",
   "metadata": {},
   "outputs": [
    {
     "name": "stdout",
     "output_type": "stream",
     "text": [
      "              precision    recall  f1-score   support\n",
      "\n",
      "           0       0.93      0.44      0.60     85194\n",
      "           1       0.31      0.88      0.46     24329\n",
      "\n",
      "    accuracy                           0.54    109523\n",
      "   macro avg       0.62      0.66      0.53    109523\n",
      "weighted avg       0.79      0.54      0.57    109523\n",
      "\n"
     ]
    }
   ],
   "source": [
    "from sklearn.metrics import classification_report\n",
    "print(classification_report(y_test,y_pred4))"
   ]
  },
  {
   "cell_type": "markdown",
   "id": "f5a911f9",
   "metadata": {},
   "source": [
    "# --Random Forest--"
   ]
  },
  {
   "cell_type": "code",
   "execution_count": 62,
   "id": "0bbb761e",
   "metadata": {},
   "outputs": [
    {
     "data": {
      "text/plain": [
       "RandomForestClassifier(criterion='entropy', random_state=0)"
      ]
     },
     "execution_count": 62,
     "metadata": {},
     "output_type": "execute_result"
    }
   ],
   "source": [
    "from sklearn.ensemble import RandomForestClassifier\n",
    "classifier4= RandomForestClassifier(criterion=\"entropy\",random_state=0)\n",
    "classifier4.fit(x_train,y_train)"
   ]
  },
  {
   "cell_type": "code",
   "execution_count": 63,
   "id": "b37fe7be",
   "metadata": {},
   "outputs": [],
   "source": [
    "y_pred5= classifier4.predict(x_test)\n",
    "#np.set_printoptions(precision=2)#TWO DIGIT AFTER DECIMAL\n",
    "#print(np.concatenate((y_pred.reshape(len(y_pred),1),y_test.reshape(len(y_test),1)),axis=1))"
   ]
  },
  {
   "cell_type": "code",
   "execution_count": 64,
   "id": "356f5984",
   "metadata": {},
   "outputs": [
    {
     "data": {
      "text/plain": [
       "array([[83391,  1776],\n",
       "       [ 4121, 20235]], dtype=int64)"
      ]
     },
     "execution_count": 64,
     "metadata": {},
     "output_type": "execute_result"
    }
   ],
   "source": [
    "from sklearn.metrics import confusion_matrix, accuracy_score\n",
    "confusion_matrix(y_test,y_pred5)"
   ]
  },
  {
   "cell_type": "code",
   "execution_count": 65,
   "id": "c961cdc0",
   "metadata": {},
   "outputs": [
    {
     "data": {
      "text/plain": [
       "0.9461574281201209"
      ]
     },
     "execution_count": 65,
     "metadata": {},
     "output_type": "execute_result"
    }
   ],
   "source": [
    "accuracy_score(y_test,y_pred5)"
   ]
  },
  {
   "cell_type": "code",
   "execution_count": 66,
   "id": "f2758cb0",
   "metadata": {},
   "outputs": [
    {
     "name": "stdout",
     "output_type": "stream",
     "text": [
      "              precision    recall  f1-score   support\n",
      "\n",
      "           0       0.95      0.98      0.97     85167\n",
      "           1       0.92      0.83      0.87     24356\n",
      "\n",
      "    accuracy                           0.95    109523\n",
      "   macro avg       0.94      0.90      0.92    109523\n",
      "weighted avg       0.95      0.95      0.95    109523\n",
      "\n"
     ]
    }
   ],
   "source": [
    "from sklearn.metrics import classification_report\n",
    "print(classification_report(y_test,y_pred5))"
   ]
  },
  {
   "cell_type": "markdown",
   "id": "c3b59f3d",
   "metadata": {},
   "source": [
    "# ------SVM------"
   ]
  },
  {
   "cell_type": "code",
   "execution_count": 54,
   "id": "6a96f8bd",
   "metadata": {},
   "outputs": [
    {
     "data": {
      "text/plain": [
       "SVC(random_state=0)"
      ]
     },
     "execution_count": 54,
     "metadata": {},
     "output_type": "execute_result"
    }
   ],
   "source": [
    "from sklearn.svm import SVC\n",
    "classifier5= SVC(kernel=\"rbf\",random_state=0)\n",
    "classifier5.fit(x_train,y_train)"
   ]
  },
  {
   "cell_type": "code",
   "execution_count": 55,
   "id": "4b87a6f6",
   "metadata": {},
   "outputs": [],
   "source": [
    "y_pred6= classifier5.predict(x_test)"
   ]
  },
  {
   "cell_type": "code",
   "execution_count": 56,
   "id": "3cf9a2a0",
   "metadata": {},
   "outputs": [
    {
     "data": {
      "text/plain": [
       "array([[82321,  2892],\n",
       "       [ 7644, 16666]], dtype=int64)"
      ]
     },
     "execution_count": 56,
     "metadata": {},
     "output_type": "execute_result"
    }
   ],
   "source": [
    "from sklearn.metrics import confusion_matrix, accuracy_score\n",
    "confusion_matrix(y_test,y_pred6)"
   ]
  },
  {
   "cell_type": "code",
   "execution_count": 57,
   "id": "fa0e1286",
   "metadata": {},
   "outputs": [
    {
     "data": {
      "text/plain": [
       "0.9038010280945555"
      ]
     },
     "execution_count": 57,
     "metadata": {},
     "output_type": "execute_result"
    }
   ],
   "source": [
    "accuracy_score(y_test,y_pred6)"
   ]
  },
  {
   "cell_type": "code",
   "execution_count": 58,
   "id": "6ea698e1",
   "metadata": {},
   "outputs": [
    {
     "name": "stdout",
     "output_type": "stream",
     "text": [
      "              precision    recall  f1-score   support\n",
      "\n",
      "           0       0.92      0.97      0.94     85213\n",
      "           1       0.85      0.69      0.76     24310\n",
      "\n",
      "    accuracy                           0.90    109523\n",
      "   macro avg       0.88      0.83      0.85    109523\n",
      "weighted avg       0.90      0.90      0.90    109523\n",
      "\n"
     ]
    }
   ],
   "source": [
    "from sklearn.metrics import classification_report\n",
    "print(classification_report(y_test,y_pred6))"
   ]
  },
  {
   "cell_type": "markdown",
   "id": "ce776777",
   "metadata": {},
   "source": [
    "# XGboost"
   ]
  },
  {
   "cell_type": "code",
   "execution_count": 83,
   "id": "3e281ce6",
   "metadata": {},
   "outputs": [
    {
     "name": "stderr",
     "output_type": "stream",
     "text": [
      "C:\\Users\\HP\\anaconda3\\lib\\site-packages\\xgboost\\sklearn.py:1224: UserWarning: The use of label encoder in XGBClassifier is deprecated and will be removed in a future release. To remove this warning, do the following: 1) Pass option use_label_encoder=False when constructing XGBClassifier object; and 2) Encode your labels (y) as integers starting with 0, i.e. 0, 1, 2, ..., [num_class - 1].\n",
      "  warnings.warn(label_encoder_deprecation_msg, UserWarning)\n"
     ]
    },
    {
     "name": "stdout",
     "output_type": "stream",
     "text": [
      "[22:55:27] WARNING: D:\\bld\\xgboost-split_1645118015404\\work\\src\\learner.cc:1115: Starting in XGBoost 1.3.0, the default evaluation metric used with the objective 'binary:logistic' was changed from 'error' to 'logloss'. Explicitly set eval_metric if you'd like to restore the old behavior.\n"
     ]
    },
    {
     "data": {
      "text/plain": [
       "XGBClassifier(base_score=0.5, booster='gbtree', colsample_bylevel=1,\n",
       "              colsample_bynode=1, colsample_bytree=1, enable_categorical=False,\n",
       "              gamma=0, gpu_id=-1, importance_type=None,\n",
       "              interaction_constraints='', learning_rate=0.300000012,\n",
       "              max_delta_step=0, max_depth=6, min_child_weight=1, missing=nan,\n",
       "              monotone_constraints='()', n_estimators=100, n_jobs=8,\n",
       "              num_parallel_tree=1, predictor='auto', random_state=0,\n",
       "              reg_alpha=0, reg_lambda=1, scale_pos_weight=1, subsample=1,\n",
       "              tree_method='exact', validate_parameters=1, verbosity=None)"
      ]
     },
     "execution_count": 83,
     "metadata": {},
     "output_type": "execute_result"
    }
   ],
   "source": [
    "from xgboost import XGBClassifier\n",
    "classifier7 = XGBClassifier()\n",
    "classifier7.fit(x_train, y_train)"
   ]
  },
  {
   "cell_type": "code",
   "execution_count": 84,
   "id": "6a2d7267",
   "metadata": {
    "scrolled": true
   },
   "outputs": [
    {
     "name": "stdout",
     "output_type": "stream",
     "text": [
      "[[83107  2087]\n",
      " [ 2732 21597]]\n"
     ]
    },
    {
     "data": {
      "text/plain": [
       "0.9560001095660272"
      ]
     },
     "execution_count": 84,
     "metadata": {},
     "output_type": "execute_result"
    }
   ],
   "source": [
    "from sklearn.metrics import confusion_matrix, accuracy_score\n",
    "y_pred7 = classifier7.predict(x_test)\n",
    "cm = confusion_matrix(y_test, y_pred7)\n",
    "print(cm)\n",
    "accuracy_score(y_test, y_pred7)"
   ]
  },
  {
   "cell_type": "code",
   "execution_count": 85,
   "id": "ae78f6b4",
   "metadata": {},
   "outputs": [
    {
     "name": "stdout",
     "output_type": "stream",
     "text": [
      "              precision    recall  f1-score   support\n",
      "\n",
      "           0       0.97      0.98      0.97     85194\n",
      "           1       0.91      0.89      0.90     24329\n",
      "\n",
      "    accuracy                           0.96    109523\n",
      "   macro avg       0.94      0.93      0.94    109523\n",
      "weighted avg       0.96      0.96      0.96    109523\n",
      "\n"
     ]
    }
   ],
   "source": [
    "from sklearn.metrics import classification_report\n",
    "print(classification_report(y_test,y_pred7))"
   ]
  },
  {
   "cell_type": "markdown",
   "id": "2d81c067",
   "metadata": {},
   "source": [
    "# ENSEMBLE LEARNING"
   ]
  },
  {
   "cell_type": "markdown",
   "id": "ec5adc7e",
   "metadata": {},
   "source": [
    "# Gradient Boosting"
   ]
  },
  {
   "cell_type": "code",
   "execution_count": 86,
   "id": "936d706e",
   "metadata": {},
   "outputs": [
    {
     "data": {
      "text/plain": [
       "GradientBoostingClassifier(learning_rate=1.0, max_depth=1, random_state=0)"
      ]
     },
     "execution_count": 86,
     "metadata": {},
     "output_type": "execute_result"
    }
   ],
   "source": [
    "from sklearn.ensemble import GradientBoostingClassifier\n",
    "classifier8= GradientBoostingClassifier(n_estimators=100,learning_rate=1.0,max_depth=1,random_state=0)\n",
    "classifier8.fit(x_train,y_train)"
   ]
  },
  {
   "cell_type": "code",
   "execution_count": 88,
   "id": "4c0d5aa9",
   "metadata": {},
   "outputs": [],
   "source": [
    "y_pred_gb= classifier8.predict(x_test)\n",
    "np.set_printoptions(precision=2)#TWO DIGIT AFTER DECIMAL\n",
    "#print(np.concatenate((y_pred_gb.reshape(len(y_pred_gb),1),y_test.reshape(len(y_test),1)),axis=1))"
   ]
  },
  {
   "cell_type": "code",
   "execution_count": 89,
   "id": "67532868",
   "metadata": {},
   "outputs": [
    {
     "name": "stdout",
     "output_type": "stream",
     "text": [
      "[[82146  3048]\n",
      " [ 4376 19953]]\n",
      "              precision    recall  f1-score   support\n",
      "\n",
      "           0       0.95      0.96      0.96     85194\n",
      "           1       0.87      0.82      0.84     24329\n",
      "\n",
      "    accuracy                           0.93    109523\n",
      "   macro avg       0.91      0.89      0.90    109523\n",
      "weighted avg       0.93      0.93      0.93    109523\n",
      "\n"
     ]
    },
    {
     "data": {
      "text/plain": [
       "0.932215151155465"
      ]
     },
     "execution_count": 89,
     "metadata": {},
     "output_type": "execute_result"
    }
   ],
   "source": [
    "from sklearn.metrics import confusion_matrix, accuracy_score\n",
    "print(confusion_matrix(y_test,y_pred_gb))\n",
    "\n",
    "from sklearn.metrics import classification_report\n",
    "print(classification_report(y_test,y_pred_gb))\n",
    "\n",
    "accuracy_score(y_test,y_pred_gb)"
   ]
  },
  {
   "cell_type": "markdown",
   "id": "b872c31b",
   "metadata": {},
   "source": [
    "# Adaboost"
   ]
  },
  {
   "cell_type": "code",
   "execution_count": 90,
   "id": "f03a8c67",
   "metadata": {},
   "outputs": [
    {
     "data": {
      "text/plain": [
       "AdaBoostClassifier(n_estimators=100, random_state=0)"
      ]
     },
     "execution_count": 90,
     "metadata": {},
     "output_type": "execute_result"
    }
   ],
   "source": [
    "from sklearn.ensemble import AdaBoostClassifier\n",
    "classifier9= AdaBoostClassifier(n_estimators=100,random_state=0)\n",
    "classifier9.fit(x_train,y_train)"
   ]
  },
  {
   "cell_type": "code",
   "execution_count": 92,
   "id": "ec6baed7",
   "metadata": {},
   "outputs": [],
   "source": [
    "y_pred_ab= classifier9.predict(x_test)\n",
    "np.set_printoptions(precision=2)#TWO DIGIT AFTER DECIMAL\n",
    "#print(np.concatenate((y_pred_ab.reshape(len(y_pred_ab),1),y_test.reshape(len(y_test),1)),axis=1))"
   ]
  },
  {
   "cell_type": "code",
   "execution_count": 93,
   "id": "091d250f",
   "metadata": {},
   "outputs": [
    {
     "name": "stdout",
     "output_type": "stream",
     "text": [
      "[[81563  3631]\n",
      " [ 4481 19848]]\n",
      "              precision    recall  f1-score   support\n",
      "\n",
      "           0       0.95      0.96      0.95     85194\n",
      "           1       0.85      0.82      0.83     24329\n",
      "\n",
      "    accuracy                           0.93    109523\n",
      "   macro avg       0.90      0.89      0.89    109523\n",
      "weighted avg       0.93      0.93      0.93    109523\n",
      "\n"
     ]
    },
    {
     "data": {
      "text/plain": [
       "0.9259333655944414"
      ]
     },
     "execution_count": 93,
     "metadata": {},
     "output_type": "execute_result"
    }
   ],
   "source": [
    "from sklearn.metrics import confusion_matrix, accuracy_score\n",
    "print(confusion_matrix(y_test,y_pred_ab))\n",
    "\n",
    "from sklearn.metrics import classification_report\n",
    "print(classification_report(y_test,y_pred_ab))\n",
    "\n",
    "accuracy_score(y_test,y_pred_ab)"
   ]
  },
  {
   "cell_type": "markdown",
   "id": "0a6a5a03",
   "metadata": {},
   "source": [
    "# Bagging"
   ]
  },
  {
   "cell_type": "code",
   "execution_count": 59,
   "id": "be02f22e",
   "metadata": {},
   "outputs": [
    {
     "data": {
      "text/plain": [
       "BaggingClassifier(base_estimator=SVC(), random_state=0)"
      ]
     },
     "execution_count": 59,
     "metadata": {},
     "output_type": "execute_result"
    }
   ],
   "source": [
    "from sklearn.ensemble import BaggingClassifier\n",
    "from sklearn.svm import SVC\n",
    "classifier10= BaggingClassifier(base_estimator=SVC(),n_estimators=10,random_state=0)\n",
    "classifier10.fit(x_train,y_train)"
   ]
  },
  {
   "cell_type": "code",
   "execution_count": 60,
   "id": "8abdd126",
   "metadata": {},
   "outputs": [],
   "source": [
    "y_pred_boost= classifier10.predict(x_test)\n",
    "np.set_printoptions(precision=2)#TWO DIGIT AFTER DECIMAL\n",
    "#print(np.concatenate((y_pred_boost.reshape(len(y_pred_boost),1),y_test.reshape(len(y_test),1)),axis=1))"
   ]
  },
  {
   "cell_type": "code",
   "execution_count": 61,
   "id": "e0434aa0",
   "metadata": {},
   "outputs": [
    {
     "name": "stdout",
     "output_type": "stream",
     "text": [
      "[[82381  2832]\n",
      " [ 7685 16625]]\n",
      "              precision    recall  f1-score   support\n",
      "\n",
      "           0       0.91      0.97      0.94     85213\n",
      "           1       0.85      0.68      0.76     24310\n",
      "\n",
      "    accuracy                           0.90    109523\n",
      "   macro avg       0.88      0.83      0.85    109523\n",
      "weighted avg       0.90      0.90      0.90    109523\n",
      "\n"
     ]
    },
    {
     "data": {
      "text/plain": [
       "0.9039745076376652"
      ]
     },
     "execution_count": 61,
     "metadata": {},
     "output_type": "execute_result"
    }
   ],
   "source": [
    "from sklearn.metrics import confusion_matrix, accuracy_score\n",
    "print(confusion_matrix(y_test,y_pred_boost))\n",
    "\n",
    "from sklearn.metrics import classification_report\n",
    "print(classification_report(y_test,y_pred_boost))\n",
    "\n",
    "accuracy_score(y_test,y_pred_boost)"
   ]
  },
  {
   "cell_type": "code",
   "execution_count": 2,
   "id": "a8723083",
   "metadata": {},
   "outputs": [],
   "source": [
    "Accuracy = ( 0.874,0.9313660144444545,0.8587876519087315,0.536882663915342,0.9461574281201209,0.9038010280945555,0.9560001095660272,\n",
    "           0.932215151155465,0.9259333655944414,0.9039745076376652)"
   ]
  },
  {
   "cell_type": "code",
   "execution_count": 3,
   "id": "fc9bb72c",
   "metadata": {},
   "outputs": [],
   "source": [
    "Classifier = [\"LR\",\"DT\",\"KNN\",\"NB\",\"RF\",\"SVM\",\"XGB\",\"GB\",\"AB\",\"Bag\"]"
   ]
  },
  {
   "cell_type": "code",
   "execution_count": 10,
   "id": "faf5c49d",
   "metadata": {},
   "outputs": [
    {
     "data": {
      "image/png": "[encoded data removed]",
      "text/plain": [
       "<Figure size 432x288 with 1 Axes>"
      ]
     },
     "metadata": {
      "needs_background": "light"
     },
     "output_type": "display_data"
    }
   ],
   "source": [
    "plt.bar(Classifier,Accuracy)\n",
    "plt.ylim([0.5,1])\n",
    "plt.xlabel(\"Clssifier\")\n",
    "plt.ylabel(\"Accuracy\")\n",
    "plt.savefig('test_1.jpg')"
   ]
  },
  {
   "cell_type": "code",
   "execution_count": 4,
   "id": "8c082bb0",
   "metadata": {},
   "outputs": [],
   "source": [
    "F1_score = (0.92,0.96,0.91,0.60,0.97,0.94,0.97,0.96,0.95,0.94)"
   ]
  },
  {
   "cell_type": "code",
   "execution_count": 7,
   "id": "f8ac9bd3",
   "metadata": {},
   "outputs": [
    {
     "data": {
      "image/png": "[encoded data removed]",
      "text/plain": [
       "<Figure size 432x288 with 1 Axes>"
      ]
     },
     "metadata": {
      "needs_background": "light"
     },
     "output_type": "display_data"
    }
   ],
   "source": [
    "w=0.4\n",
    "bar1=np.arange(len(Classifier))\n",
    "plt.ylim([0.4,1.2])\n",
    "\n",
    "bar2=[i+w for i in bar1]\n",
    "plt.bar(bar1,Accuracy,0.4,label=\"Accuracy\")\n",
    "plt.bar(bar2,F1_score,0.4,label=\"F1 value\")\n",
    "plt.xlabel(\"Classifier\")\n",
    "plt.ylabel(\"accuracy and f1 score in %\")\n",
    "plt.xticks(bar1+w/2,Classifier)\n",
    "plt.legend()\n",
    "plt.savefig('test_2.jpg')"
   ]
  },
  {
   "cell_type": "code",
   "execution_count": null,
   "id": "c88afc1c",
   "metadata": {},
   "outputs": [],
   "source": []
  }
 ],
 "metadata": {
  "kernelspec": {
   "display_name": "Python 3",
   "language": "python",
   "name": "python3"
  },
  "language_info": {
   "codemirror_mode": {
    "name": "ipython",
    "version": 3
   },
   "file_extension": ".py",
   "mimetype": "text/x-python",
   "name": "python",
   "nbconvert_exporter": "python",
   "pygments_lexer": "ipython3",
   "version": "3.8.5"
  }
 },
 "nbformat": 4,
 "nbformat_minor": 5
}
